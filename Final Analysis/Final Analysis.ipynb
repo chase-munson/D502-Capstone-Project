{
 "cells": [
  {
   "cell_type": "markdown",
   "id": "c9f5bbc5-4374-45e4-a4e8-63ace82da8b3",
   "metadata": {},
   "source": [
    "# Introduction"
   ]
  },
  {
   "cell_type": "markdown",
   "id": "9f30531b-ce29-4e6c-b6dc-02f367c8a100",
   "metadata": {},
   "source": [
    "## Dataset Description\n",
    "The dataset that is being worked on is called Flight Delay, and has significant amounts of information on flights from the years 2018-2024. This set of data has 29 columns, with information relating to date of flight, overall flight time, location data, and delay explanations.\n",
    "\n",
    "The dataset can be found here: https://www.kaggle.com/datasets/arvindnagaonkar/flight-delay/data"
   ]
  },
  {
   "cell_type": "markdown",
   "id": "8c67b842-ebae-4d18-9980-faa7220ebd04",
   "metadata": {},
   "source": [
    "## Proposed Question(s)\n",
    "\n",
    "Is there a correlation between domestic flight delays and weather in the domestic airline market?"
   ]
  },
  {
   "cell_type": "markdown",
   "id": "6d8460b6-48bb-4d68-a300-fdc1e2b49e03",
   "metadata": {},
   "source": [
    "# Data Exploration"
   ]
  },
  {
   "cell_type": "code",
   "execution_count": 5,
   "id": "a3e8b880-c8d8-48da-866b-dda5e7392088",
   "metadata": {},
   "outputs": [],
   "source": [
    "# Import Packages\n",
    "import pandas as pd\n",
    "import numpy as np\n",
    "import scipy.stats as stats\n",
    "import matplotlib.pyplot as plt\n",
    "import matplotlib.dates as mdates\n",
    "import seaborn as sns"
   ]
  },
  {
   "cell_type": "code",
   "execution_count": 6,
   "id": "7d2311ea-7b77-4cc7-96df-9c859d06b794",
   "metadata": {},
   "outputs": [],
   "source": [
    "# Read parquet file, make df. Source: https://stackoverflow.com/questions/33813815/how-to-read-a-parquet-file-into-pandas-dataframe\n",
    "df = pd.read_parquet('Flight_Delay.parquet', engine='pyarrow')"
   ]
  },
  {
   "cell_type": "code",
   "execution_count": 7,
   "id": "821a82de-c934-4e27-8558-3925f9c5d58b",
   "metadata": {},
   "outputs": [
    {
     "data": {
      "text/html": [
       "<div>\n",
       "<style scoped>\n",
       "    .dataframe tbody tr th:only-of-type {\n",
       "        vertical-align: middle;\n",
       "    }\n",
       "\n",
       "    .dataframe tbody tr th {\n",
       "        vertical-align: top;\n",
       "    }\n",
       "\n",
       "    .dataframe thead th {\n",
       "        text-align: right;\n",
       "    }\n",
       "</style>\n",
       "<table border=\"1\" class=\"dataframe\">\n",
       "  <thead>\n",
       "    <tr style=\"text-align: right;\">\n",
       "      <th></th>\n",
       "      <th>Year</th>\n",
       "      <th>Month</th>\n",
       "      <th>DayofMonth</th>\n",
       "      <th>FlightDate</th>\n",
       "      <th>Marketing_Airline_Network</th>\n",
       "      <th>OriginCityName</th>\n",
       "      <th>DestCityName</th>\n",
       "      <th>CRSDepTime</th>\n",
       "      <th>DepTime</th>\n",
       "      <th>DepDelay</th>\n",
       "      <th>...</th>\n",
       "      <th>CRSElapsedTime</th>\n",
       "      <th>ActualElapsedTime</th>\n",
       "      <th>AirTime</th>\n",
       "      <th>Distance</th>\n",
       "      <th>DistanceGroup</th>\n",
       "      <th>CarrierDelay</th>\n",
       "      <th>WeatherDelay</th>\n",
       "      <th>NASDelay</th>\n",
       "      <th>SecurityDelay</th>\n",
       "      <th>LateAircraftDelay</th>\n",
       "    </tr>\n",
       "  </thead>\n",
       "  <tbody>\n",
       "    <tr>\n",
       "      <th>1</th>\n",
       "      <td>2018</td>\n",
       "      <td>1</td>\n",
       "      <td>15</td>\n",
       "      <td>2018-01-15</td>\n",
       "      <td>UA</td>\n",
       "      <td>Newark, NJ</td>\n",
       "      <td>Charleston, SC</td>\n",
       "      <td>1845</td>\n",
       "      <td>1928.0</td>\n",
       "      <td>43.0</td>\n",
       "      <td>...</td>\n",
       "      <td>143.0</td>\n",
       "      <td>141.0</td>\n",
       "      <td>102.0</td>\n",
       "      <td>628.0</td>\n",
       "      <td>3</td>\n",
       "      <td>41.0</td>\n",
       "      <td>0.0</td>\n",
       "      <td>0.0</td>\n",
       "      <td>0.0</td>\n",
       "      <td>0.0</td>\n",
       "    </tr>\n",
       "    <tr>\n",
       "      <th>2</th>\n",
       "      <td>2018</td>\n",
       "      <td>1</td>\n",
       "      <td>16</td>\n",
       "      <td>2018-01-16</td>\n",
       "      <td>UA</td>\n",
       "      <td>Newark, NJ</td>\n",
       "      <td>Charleston, SC</td>\n",
       "      <td>1835</td>\n",
       "      <td>1956.0</td>\n",
       "      <td>81.0</td>\n",
       "      <td>...</td>\n",
       "      <td>143.0</td>\n",
       "      <td>131.0</td>\n",
       "      <td>108.0</td>\n",
       "      <td>628.0</td>\n",
       "      <td>3</td>\n",
       "      <td>67.0</td>\n",
       "      <td>0.0</td>\n",
       "      <td>0.0</td>\n",
       "      <td>0.0</td>\n",
       "      <td>2.0</td>\n",
       "    </tr>\n",
       "    <tr>\n",
       "      <th>3</th>\n",
       "      <td>2018</td>\n",
       "      <td>1</td>\n",
       "      <td>17</td>\n",
       "      <td>2018-01-17</td>\n",
       "      <td>UA</td>\n",
       "      <td>Newark, NJ</td>\n",
       "      <td>Charleston, SC</td>\n",
       "      <td>1835</td>\n",
       "      <td>1836.0</td>\n",
       "      <td>1.0</td>\n",
       "      <td>...</td>\n",
       "      <td>143.0</td>\n",
       "      <td>138.0</td>\n",
       "      <td>113.0</td>\n",
       "      <td>628.0</td>\n",
       "      <td>3</td>\n",
       "      <td>0.0</td>\n",
       "      <td>0.0</td>\n",
       "      <td>0.0</td>\n",
       "      <td>0.0</td>\n",
       "      <td>0.0</td>\n",
       "    </tr>\n",
       "    <tr>\n",
       "      <th>4</th>\n",
       "      <td>2018</td>\n",
       "      <td>1</td>\n",
       "      <td>18</td>\n",
       "      <td>2018-01-18</td>\n",
       "      <td>UA</td>\n",
       "      <td>Newark, NJ</td>\n",
       "      <td>Charleston, SC</td>\n",
       "      <td>1845</td>\n",
       "      <td>1844.0</td>\n",
       "      <td>-1.0</td>\n",
       "      <td>...</td>\n",
       "      <td>143.0</td>\n",
       "      <td>134.0</td>\n",
       "      <td>92.0</td>\n",
       "      <td>628.0</td>\n",
       "      <td>3</td>\n",
       "      <td>0.0</td>\n",
       "      <td>0.0</td>\n",
       "      <td>0.0</td>\n",
       "      <td>0.0</td>\n",
       "      <td>0.0</td>\n",
       "    </tr>\n",
       "    <tr>\n",
       "      <th>6</th>\n",
       "      <td>2018</td>\n",
       "      <td>1</td>\n",
       "      <td>20</td>\n",
       "      <td>2018-01-20</td>\n",
       "      <td>UA</td>\n",
       "      <td>Newark, NJ</td>\n",
       "      <td>Charleston, SC</td>\n",
       "      <td>1835</td>\n",
       "      <td>1829.0</td>\n",
       "      <td>-6.0</td>\n",
       "      <td>...</td>\n",
       "      <td>143.0</td>\n",
       "      <td>117.0</td>\n",
       "      <td>89.0</td>\n",
       "      <td>628.0</td>\n",
       "      <td>3</td>\n",
       "      <td>0.0</td>\n",
       "      <td>0.0</td>\n",
       "      <td>0.0</td>\n",
       "      <td>0.0</td>\n",
       "      <td>0.0</td>\n",
       "    </tr>\n",
       "  </tbody>\n",
       "</table>\n",
       "<p>5 rows × 29 columns</p>\n",
       "</div>"
      ],
      "text/plain": [
       "   Year  Month  DayofMonth  FlightDate Marketing_Airline_Network  \\\n",
       "1  2018      1          15  2018-01-15                        UA   \n",
       "2  2018      1          16  2018-01-16                        UA   \n",
       "3  2018      1          17  2018-01-17                        UA   \n",
       "4  2018      1          18  2018-01-18                        UA   \n",
       "6  2018      1          20  2018-01-20                        UA   \n",
       "\n",
       "  OriginCityName    DestCityName  CRSDepTime  DepTime  DepDelay  ...  \\\n",
       "1     Newark, NJ  Charleston, SC        1845   1928.0      43.0  ...   \n",
       "2     Newark, NJ  Charleston, SC        1835   1956.0      81.0  ...   \n",
       "3     Newark, NJ  Charleston, SC        1835   1836.0       1.0  ...   \n",
       "4     Newark, NJ  Charleston, SC        1845   1844.0      -1.0  ...   \n",
       "6     Newark, NJ  Charleston, SC        1835   1829.0      -6.0  ...   \n",
       "\n",
       "   CRSElapsedTime  ActualElapsedTime  AirTime  Distance  DistanceGroup  \\\n",
       "1           143.0              141.0    102.0     628.0              3   \n",
       "2           143.0              131.0    108.0     628.0              3   \n",
       "3           143.0              138.0    113.0     628.0              3   \n",
       "4           143.0              134.0     92.0     628.0              3   \n",
       "6           143.0              117.0     89.0     628.0              3   \n",
       "\n",
       "   CarrierDelay  WeatherDelay  NASDelay  SecurityDelay  LateAircraftDelay  \n",
       "1          41.0           0.0       0.0            0.0                0.0  \n",
       "2          67.0           0.0       0.0            0.0                2.0  \n",
       "3           0.0           0.0       0.0            0.0                0.0  \n",
       "4           0.0           0.0       0.0            0.0                0.0  \n",
       "6           0.0           0.0       0.0            0.0                0.0  \n",
       "\n",
       "[5 rows x 29 columns]"
      ]
     },
     "execution_count": 7,
     "metadata": {},
     "output_type": "execute_result"
    }
   ],
   "source": [
    "# Check layout of dataset visually.\n",
    "df.head()"
   ]
  },
  {
   "cell_type": "code",
   "execution_count": 8,
   "id": "7ada7e50-1126-43fc-a90a-bc99c266f368",
   "metadata": {},
   "outputs": [
    {
     "name": "stdout",
     "output_type": "stream",
     "text": [
      "<class 'pandas.core.frame.DataFrame'>\n",
      "Index: 30132672 entries, 1 to 596675\n",
      "Data columns (total 29 columns):\n",
      " #   Column                     Dtype  \n",
      "---  ------                     -----  \n",
      " 0   Year                       int64  \n",
      " 1   Month                      int64  \n",
      " 2   DayofMonth                 int64  \n",
      " 3   FlightDate                 object \n",
      " 4   Marketing_Airline_Network  object \n",
      " 5   OriginCityName             object \n",
      " 6   DestCityName               object \n",
      " 7   CRSDepTime                 int64  \n",
      " 8   DepTime                    float64\n",
      " 9   DepDelay                   float64\n",
      " 10  DepDelayMinutes            float64\n",
      " 11  TaxiOut                    float64\n",
      " 12  WheelsOff                  float64\n",
      " 13  WheelsOn                   float64\n",
      " 14  TaxiIn                     float64\n",
      " 15  CRSArrTime                 int64  \n",
      " 16  ArrTime                    float64\n",
      " 17  ArrDelay                   float64\n",
      " 18  ArrDelayMinutes            float64\n",
      " 19  CRSElapsedTime             float64\n",
      " 20  ActualElapsedTime          float64\n",
      " 21  AirTime                    float64\n",
      " 22  Distance                   float64\n",
      " 23  DistanceGroup              int64  \n",
      " 24  CarrierDelay               float64\n",
      " 25  WeatherDelay               float64\n",
      " 26  NASDelay                   float64\n",
      " 27  SecurityDelay              float64\n",
      " 28  LateAircraftDelay          float64\n",
      "dtypes: float64(19), int64(6), object(4)\n",
      "memory usage: 6.7+ GB\n"
     ]
    }
   ],
   "source": [
    "# Check for any abnormal information, column types.\n",
    "df.info()"
   ]
  },
  {
   "cell_type": "code",
   "execution_count": 9,
   "id": "c5537dba-f3e3-405b-b153-08a6b31f6f41",
   "metadata": {},
   "outputs": [
    {
     "data": {
      "text/plain": [
       "Year                         0\n",
       "Month                        0\n",
       "DayofMonth                   0\n",
       "FlightDate                   0\n",
       "Marketing_Airline_Network    0\n",
       "OriginCityName               0\n",
       "DestCityName                 0\n",
       "CRSDepTime                   0\n",
       "DepTime                      0\n",
       "DepDelay                     0\n",
       "DepDelayMinutes              0\n",
       "TaxiOut                      0\n",
       "WheelsOff                    0\n",
       "WheelsOn                     0\n",
       "TaxiIn                       0\n",
       "CRSArrTime                   0\n",
       "ArrTime                      0\n",
       "ArrDelay                     0\n",
       "ArrDelayMinutes              0\n",
       "CRSElapsedTime               0\n",
       "ActualElapsedTime            0\n",
       "AirTime                      0\n",
       "Distance                     0\n",
       "DistanceGroup                0\n",
       "CarrierDelay                 0\n",
       "WeatherDelay                 0\n",
       "NASDelay                     0\n",
       "SecurityDelay                0\n",
       "LateAircraftDelay            0\n",
       "dtype: int64"
      ]
     },
     "execution_count": 9,
     "metadata": {},
     "output_type": "execute_result"
    }
   ],
   "source": [
    "# Check for null values in dataset.\n",
    "df.isnull().sum()"
   ]
  },
  {
   "cell_type": "code",
   "execution_count": 10,
   "id": "000d3c72-0420-4cb5-92b8-03e4f17be0b5",
   "metadata": {},
   "outputs": [
    {
     "data": {
      "text/plain": [
       "0"
      ]
     },
     "execution_count": 10,
     "metadata": {},
     "output_type": "execute_result"
    }
   ],
   "source": [
    "# Check for duplicated values.\n",
    "df.duplicated().sum()"
   ]
  },
  {
   "cell_type": "code",
   "execution_count": 11,
   "id": "a14ce09d-e735-4b1d-83d3-f02120b69510",
   "metadata": {},
   "outputs": [
    {
     "name": "stdout",
     "output_type": "stream",
     "text": [
      "2900.0\n",
      "0.0\n"
     ]
    }
   ],
   "source": [
    "# Check min and max in WeatherDelay column for skewed data.\n",
    "print(df.WeatherDelay.max())\n",
    "print(df.WeatherDelay.min())"
   ]
  },
  {
   "cell_type": "code",
   "execution_count": 12,
   "id": "04482823-52a1-4d1f-acc6-2b2bb2523cba",
   "metadata": {
    "scrolled": true
   },
   "outputs": [
    {
     "data": {
      "text/plain": [
       "array(['Newark, NJ', 'Providence, RI', 'Chicago, IL', 'Lafayette, LA',\n",
       "       'Houston, TX', 'Gulfport/Biloxi, MS', 'Tulsa, OK', 'Greer, SC',\n",
       "       'Mobile, AL', 'Huntsville, AL', 'Little Rock, AR',\n",
       "       'Corpus Christi, TX', 'Des Moines, IA', 'Burlington, VT',\n",
       "       'Atlanta, GA', 'Charleston/Dunbar, WV', 'Lexington, KY',\n",
       "       'Nashville, TN', 'Minneapolis, MN', 'Richmond, VA',\n",
       "       'Cleveland, OH', 'Detroit, MI', 'White Plains, NY',\n",
       "       'Birmingham, AL', 'Jackson/Vicksburg, MS', 'Louisville, KY',\n",
       "       'Orlando, FL', 'Columbia, SC', 'New York, NY', 'Fayetteville, AR',\n",
       "       'Newport News/Williamsburg, VA', 'Lincoln, NE', 'Cincinnati, OH',\n",
       "       'Charleston, SC', 'Tallahassee, FL', 'Pittsburgh, PA',\n",
       "       'Charlotte, NC', 'Philadelphia, PA', 'Hartford, CT',\n",
       "       'Savannah, GA', 'Panama City, FL', 'Valparaiso, FL',\n",
       "       'St. Louis, MO', 'Killeen, TX', 'Key West, FL', 'Milwaukee, WI',\n",
       "       'Springfield, MO', 'Evansville, IN', 'Knoxville, TN',\n",
       "       'Bloomington/Normal, IL', 'Allentown/Bethlehem/Easton, PA',\n",
       "       'Boston, MA', 'Omaha, NE', 'Greensboro/High Point, NC',\n",
       "       'Memphis, TN', 'Moline, IL', 'Kalamazoo, MI',\n",
       "       'Bristol/Johnson City/Kingsport, TN', 'Augusta, GA',\n",
       "       'Gainesville, FL', 'Grand Rapids, MI', 'Buffalo, NY',\n",
       "       'Myrtle Beach, SC', 'Raleigh/Durham, NC', 'Appleton, WI',\n",
       "       'Rochester, NY', 'Asheville, NC', 'Chattanooga, TN', 'Norfolk, VA',\n",
       "       'Madison, WI', 'Portland, ME', 'Baton Rouge, LA', 'Rochester, MN',\n",
       "       'Elmira/Corning, NY', 'Columbus, OH', 'Cedar Rapids/Iowa City, IA',\n",
       "       'Harrisburg, PA', 'Syracuse, NY', 'Jacksonville, FL',\n",
       "       'Washington, DC', 'Fort Myers, FL', 'Tampa, FL', 'Denver, CO',\n",
       "       'Islip, NY', 'Las Vegas, NV', 'Austin, TX', 'Trenton, NJ',\n",
       "       'San Diego, CA', 'Dallas/Fort Worth, TX', 'Salt Lake City, UT',\n",
       "       'Albuquerque, NM', 'Los Angeles, CA', 'San Francisco, CA',\n",
       "       'Phoenix, AZ', 'Miami, FL', 'Oklahoma City, OK',\n",
       "       'Colorado Springs, CO', 'Ontario, CA', 'Seattle, WA',\n",
       "       'New Orleans, LA', 'Santa Ana, CA', 'Palm Springs, CA',\n",
       "       'San Jose, CA', 'Portland, OR', 'Kansas City, MO',\n",
       "       'West Palm Beach/Palm Beach, FL', 'Indianapolis, IN',\n",
       "       'San Antonio, TX', 'San Juan, PR', 'Reno, NV', 'Baltimore, MD',\n",
       "       'Fort Lauderdale, FL', 'Niagara Falls, NY', 'Latrobe, PA',\n",
       "       'Atlantic City, NJ', 'Akron, OH', 'Daytona Beach, FL',\n",
       "       'Dayton, OH', 'New Haven, CT', 'Manchester, NH',\n",
       "       'Jacksonville/Camp Lejeune, NC', 'Melbourne, FL',\n",
       "       'Sarasota/Bradenton, FL', 'Fayetteville, NC',\n",
       "       'Charlottesville, VA', 'Pensacola, FL', 'Wilmington, NC',\n",
       "       'Albany, NY', 'Fort Wayne, IN', 'Lynchburg, VA', 'Toledo, OH',\n",
       "       'Hayden, CO', 'Bozeman, MT', 'Eugene, OR', 'Boise, ID',\n",
       "       'Spokane, WA', 'Tucson, AZ', 'Honolulu, HI', 'Kona, HI',\n",
       "       'Kahului, HI', 'Eagle, CO', 'Sacramento, CA', 'Gunnison, CO',\n",
       "       'Mission/McAllen/Edinburg, TX', 'Lihue, HI', 'Anchorage, AK',\n",
       "       'Aguadilla, PR', 'Montrose/Delta, CO', 'Billings, MT',\n",
       "       'Jackson, WY', 'Guam, TT', 'Wichita, KS', 'Hilo, HI',\n",
       "       'Burbank, CA', 'Medford, OR', 'Santa Barbara, CA', 'Fresno, CA',\n",
       "       'Sioux Falls, SD', 'Amarillo, TX', 'Dallas, TX', 'El Paso, TX',\n",
       "       'Flint, MI', 'Harlingen/San Benito, TX', 'Lubbock, TX',\n",
       "       'Long Beach, CA', 'Midland/Odessa, TX', 'Oakland, CA',\n",
       "       'Brownsville, TX', 'Peoria, IL', 'Rapid City, SD', 'Durango, CO',\n",
       "       'Monterey, CA', 'Bakersfield, CA', 'San Luis Obispo, CA',\n",
       "       'Grand Island, NE', 'Montgomery, AL', 'Christiansted, VI',\n",
       "       'Yakima, WA', 'Lewiston, ID', 'Wenatchee, WA', 'Bend/Redmond, OR',\n",
       "       'Pullman, WA', 'Walla Walla, WA', 'Helena, MT',\n",
       "       'Mammoth Lakes, CA', 'Pasco/Kennewick/Richland, WA',\n",
       "       'Missoula, MT', 'Great Falls, MT', 'Sun Valley/Hailey/Ketchum, ID',\n",
       "       'Santa Rosa, CA', 'Bellingham, WA', 'Fairbanks, AK',\n",
       "       'Deadhorse, AK', 'Kalispell, MT', 'Unalaska, AK',\n",
       "       'Charlotte Amalie, VI', 'Roanoke, VA', 'Bismarck/Mandan, ND',\n",
       "       'Scranton/Wilkes-Barre, PA', 'Fargo, ND', 'Green Bay, WI',\n",
       "       'Pago Pago, TT', 'Hoolehua, HI', 'Lanai, HI', 'Kapalua, HI',\n",
       "       'Roswell, NM', 'Bangor, ME', 'Aberdeen, SD', 'Grand Junction, CO',\n",
       "       'Alpena, MI', 'Escanaba, MI', 'Pellston, MI', 'Bemidji, MN',\n",
       "       'Casper, WY', 'Brainerd, MN', 'Butte, MT', 'Cedar City, UT',\n",
       "       'Elko, NV', 'St. George, UT', 'Cody, WY', 'Hibbing, MN',\n",
       "       'Binghamton, NY', 'Twin Falls, ID', 'Marquette, MI',\n",
       "       'Sault Ste. Marie, MI', 'Rhinelander, WI', 'Ithaca/Cortland, NY',\n",
       "       'La Crosse, WI', 'International Falls, MN', 'Pocatello, ID',\n",
       "       'Aspen, CO', 'Flagstaff, AZ', 'Yuma, AZ', 'Traverse City, MI',\n",
       "       'Meridian, MS', 'Hattiesburg/Laurel, MS', 'Santa Fe, NM',\n",
       "       'Bullhead City, AZ', 'South Bend, IN', 'Columbus, MS',\n",
       "       'Lansing, MI', 'State College, PA', 'Newburgh/Poughkeepsie, NY',\n",
       "       'Erie, PA', 'Iron Mountain/Kingsfd, MI', 'Duluth, MN',\n",
       "       'Williston, ND', 'Saginaw/Bay City/Midland, MI', 'Minot, ND',\n",
       "       'Monroe, LA', 'Dothan, AL', 'Shreveport, LA',\n",
       "       'Hancock/Houghton, MI', 'Gillette, WY', 'Clarksburg/Fairmont, WV',\n",
       "       'Rock Springs, WY', 'Pueblo, CO', 'Muskegon, MI',\n",
       "       'Springfield, IL', 'Devils Lake, ND', 'Jamestown, ND',\n",
       "       'Laramie, WY', 'Hays, KS', 'Paducah, KY', 'Idaho Falls, ID',\n",
       "       'Arcata/Eureka, CA', 'Grand Forks, ND', 'Quincy, IL',\n",
       "       'Eau Claire, WI', 'Cape Girardeau, MO', 'North Bend/Coos Bay, OR',\n",
       "       'Mosinee, WI', 'Redding, CA', 'Columbia, MO', 'Fort Smith, AR',\n",
       "       'Laredo, TX', 'College Station/Bryan, TX', 'Lake Charles, LA',\n",
       "       'Alexandria, LA', 'Hobbs, NM', 'Dubuque, IA', 'Waco, TX',\n",
       "       'Tyler, TX', 'Manhattan/Ft. Riley, KS', 'Joplin, MO',\n",
       "       'Champaign/Urbana, IL', 'San Angelo, TX', 'Lawton/Fort Sill, OK',\n",
       "       'Stillwater, OK', 'Beaumont/Port Arthur, TX', 'Sioux City, IA',\n",
       "       'Plattsburgh, NY', 'Dickinson, ND', 'Kodiak, AK', 'Bethel, AK',\n",
       "       'Barrow, AK', 'Ketchikan, AK', 'Juneau, AK', 'Yakutat, AK',\n",
       "       'Cordova, AK', 'Sitka, AK', 'Wrangell, AK', 'Petersburg, AK',\n",
       "       'Nome, AK', 'Kotzebue, AK', 'Adak Island, AK', 'Columbus, GA',\n",
       "       'Brunswick, GA', 'Valdosta, GA', 'Albany, GA', 'Scottsbluff, NE',\n",
       "       'Ponce, PR', 'Worcester, MA', 'Wichita Falls, TX', 'Abilene, TX',\n",
       "       'Longview, TX', 'Garden City, KS', 'Waterloo, IA', 'Saipan, TT',\n",
       "       'Rota, TT', 'Ashland, WV', 'Greenville, NC',\n",
       "       'New Bern/Morehead/Beaufort, NC', 'Watertown, NY', 'Salisbury, MD',\n",
       "       'Williamsport, PA', 'Florence, SC', 'Hilton Head, SC',\n",
       "       'St. Petersburg, FL', 'Hagerstown, MD', 'Sanford, FL',\n",
       "       'Rockford, IL', 'Owensboro, KY', 'Punta Gorda, FL', 'Concord, NC',\n",
       "       'Ogden, UT', 'Provo, UT', 'Belleville, IL', 'Stockton, CA',\n",
       "       'Portsmouth, NH', 'Ogdensburg, NY', 'St. Cloud, MN',\n",
       "       'Santa Maria, CA', 'Youngstown/Warren, OH', 'Texarkana, AR',\n",
       "       'Nantucket, MA', \"Martha's Vineyard, MA\", 'Lewisburg, WV',\n",
       "       'Staunton, VA', 'North Platte, NE', 'Kearney, NE', 'Salina, KS',\n",
       "       'Vernal, UT', 'Moab, UT', 'Liberal, KS', 'Prescott, AZ',\n",
       "       'Branson, MO', 'Presque Isle/Houlton, ME', 'Cheyenne, WY',\n",
       "       'Del Rio, TX', 'West Yellowstone, MT', 'Hyannis, MA',\n",
       "       'Gustavus, AK', 'King Salmon, AK', 'Dillingham, AK', 'CONCORD, NC',\n",
       "       'Everett, WA', 'Pierre, SD', 'Watertown, SD', 'Sheridan, WY',\n",
       "       'Riverton/Lander, WY', 'Cold Bay, AK', 'Dodge City, KS',\n",
       "       'Decatur, IL', 'Alamosa, CO', 'Victoria, TX', 'Johnstown, PA',\n",
       "       'Wilmington, DE', 'Mason City, IA', 'Fort Leonard Wood, MO',\n",
       "       'Fort Dodge, IA', 'Bishop, CA'], dtype=object)"
      ]
     },
     "execution_count": 12,
     "metadata": {},
     "output_type": "execute_result"
    }
   ],
   "source": [
    "# Check departure city locations.\n",
    "# Source: https://www.geeksforgeeks.org/get-unique-values-from-a-column-in-pandas-dataframe/\n",
    "df.OriginCityName.unique()"
   ]
  },
  {
   "cell_type": "code",
   "execution_count": 13,
   "id": "76cc481a-7d0b-426d-8871-9553be533031",
   "metadata": {
    "scrolled": true
   },
   "outputs": [
    {
     "data": {
      "text/plain": [
       "array(['Charleston, SC', 'Newark, NJ', 'Fayetteville, AR', 'Houston, TX',\n",
       "       'Monroe, LA', 'Oklahoma City, OK', 'Baton Rouge, LA',\n",
       "       'Panama City, FL', 'Chicago, IL', 'Des Moines, IA',\n",
       "       'Springfield, MO', 'Savannah, GA', 'Amarillo, TX', 'Lexington, KY',\n",
       "       'Indianapolis, IN', 'Charleston/Dunbar, WV', 'Huntsville, AL',\n",
       "       'Atlanta, GA', 'Detroit, MI', 'Minneapolis, MN', 'New York, NY',\n",
       "       'Cleveland, OH', 'White Plains, NY', 'Boston, MA', 'Richmond, VA',\n",
       "       'Jackson/Vicksburg, MS', 'Tulsa, OK', 'Orlando, FL',\n",
       "       'Birmingham, AL', 'Louisville, KY', 'Greer, SC', 'Key West, FL',\n",
       "       'Milwaukee, WI', 'Newport News/Williamsburg, VA', 'Augusta, GA',\n",
       "       'Lincoln, NE', 'Charlotte, NC', 'Nashville, TN',\n",
       "       'Philadelphia, PA', 'Killeen, TX', 'Evansville, IN',\n",
       "       'Hartford, CT', 'St. Louis, MO', 'Cincinnati, OH', 'Madison, WI',\n",
       "       'Greensboro/High Point, NC', 'Knoxville, TN',\n",
       "       'Gulfport/Biloxi, MS', 'Pittsburgh, PA', 'Columbia, SC',\n",
       "       'Valparaiso, FL', 'Bloomington/Normal, IL',\n",
       "       'Allentown/Bethlehem/Easton, PA', 'Kalamazoo, MI', 'Memphis, TN',\n",
       "       'Tallahassee, FL', 'Bristol/Johnson City/Kingsport, TN',\n",
       "       'Grand Rapids, MI', 'Norfolk, VA', 'Gainesville, FL',\n",
       "       'Buffalo, NY', 'Myrtle Beach, SC', 'Rochester, MN', 'Appleton, WI',\n",
       "       'Asheville, NC', 'Omaha, NE', 'Portland, ME', 'Rochester, NY',\n",
       "       'Raleigh/Durham, NC', 'Cedar Rapids/Iowa City, IA',\n",
       "       'Elmira/Corning, NY', 'Columbus, OH', 'Washington, DC',\n",
       "       'Syracuse, NY', 'Jacksonville, FL', 'Moline, IL', 'Trenton, NJ',\n",
       "       'Islip, NY', 'San Francisco, CA', 'Phoenix, AZ', 'Los Angeles, CA',\n",
       "       'Miami, FL', 'San Juan, PR', 'Tampa, FL', 'Las Vegas, NV',\n",
       "       'Denver, CO', 'New Orleans, LA', 'Colorado Springs, CO',\n",
       "       'Kansas City, MO', 'Fort Myers, FL', 'Seattle, WA', 'Austin, TX',\n",
       "       'Ontario, CA', 'San Diego, CA', 'Santa Ana, CA',\n",
       "       'Salt Lake City, UT', 'Portland, OR', 'Providence, RI',\n",
       "       'San Jose, CA', 'West Palm Beach/Palm Beach, FL',\n",
       "       'Albuquerque, NM', 'Dallas/Fort Worth, TX', 'San Antonio, TX',\n",
       "       'Reno, NV', 'Palm Springs, CA', 'Baltimore, MD',\n",
       "       'Fort Lauderdale, FL', 'Oakland, CA', 'Latrobe, PA',\n",
       "       'Atlantic City, NJ', 'Chattanooga, TN', 'Little Rock, AR',\n",
       "       'Akron, OH', 'Charlottesville, VA', 'Dayton, OH',\n",
       "       'Daytona Beach, FL', 'New Haven, CT', 'Manchester, NH',\n",
       "       'Jacksonville/Camp Lejeune, NC', 'Melbourne, FL', 'Mobile, AL',\n",
       "       'Burlington, VT', 'Sarasota/Bradenton, FL', 'Pensacola, FL',\n",
       "       'Wilmington, NC', 'Scranton/Wilkes-Barre, PA', 'Albany, NY',\n",
       "       'Harrisburg, PA', 'Fort Wayne, IN', 'Lynchburg, VA',\n",
       "       'Sioux Falls, SD', 'Tucson, AZ', 'Sacramento, CA', 'Kona, HI',\n",
       "       'Kahului, HI', 'Lihue, HI', 'Honolulu, HI', 'Eagle, CO',\n",
       "       'Jackson, WY', 'Gunnison, CO', 'Anchorage, AK', 'Hilo, HI',\n",
       "       'Bozeman, MT', 'Spokane, WA', 'Montrose/Delta, CO', 'Billings, MT',\n",
       "       'Eugene, OR', 'Boise, ID', 'Mission/McAllen/Edinburg, TX',\n",
       "       'Guam, TT', 'Wichita, KS', 'Hayden, CO', 'Burbank, CA',\n",
       "       'Fresno, CA', 'Santa Barbara, CA', 'Medford, OR', 'Dallas, TX',\n",
       "       'Long Beach, CA', 'El Paso, TX', 'Harlingen/San Benito, TX',\n",
       "       'Lubbock, TX', 'Midland/Odessa, TX', 'Corpus Christi, TX',\n",
       "       'Flint, MI', 'Brownsville, TX', 'Lafayette, LA',\n",
       "       'San Luis Obispo, CA', 'Rapid City, SD', 'Monterey, CA',\n",
       "       'Bakersfield, CA', 'Durango, CO', 'Montgomery, AL',\n",
       "       'Christiansted, VI', 'Yakima, WA', 'Bend/Redmond, OR',\n",
       "       'Lewiston, ID', 'Walla Walla, WA', 'Wenatchee, WA',\n",
       "       'Kalispell, MT', 'Pullman, WA', 'Mammoth Lakes, CA',\n",
       "       'Pasco/Kennewick/Richland, WA', 'Sun Valley/Hailey/Ketchum, ID',\n",
       "       'Santa Rosa, CA', 'Great Falls, MT', 'Missoula, MT',\n",
       "       'Bellingham, WA', 'Fairbanks, AK', 'Deadhorse, AK', 'Helena, MT',\n",
       "       'Unalaska, AK', 'Charlotte Amalie, VI', 'Bismarck/Mandan, ND',\n",
       "       'Fayetteville, NC', 'Roanoke, VA', 'Fargo, ND', 'Green Bay, WI',\n",
       "       'Pago Pago, TT', 'Hoolehua, HI', 'Lanai, HI', 'Kapalua, HI',\n",
       "       'Grand Island, NE', 'Roswell, NM', 'Peoria, IL', 'Bangor, ME',\n",
       "       'Pocatello, ID', 'Aberdeen, SD', 'Alpena, MI', 'Escanaba, MI',\n",
       "       'Bemidji, MN', 'Casper, WY', 'Brainerd, MN', 'Butte, MT',\n",
       "       'St. George, UT', 'Sault Ste. Marie, MI', 'Marquette, MI',\n",
       "       'Elko, NV', 'Grand Junction, CO', 'Ithaca/Cortland, NY',\n",
       "       'Cody, WY', 'Hibbing, MN', 'Binghamton, NY', 'Twin Falls, ID',\n",
       "       'Pellston, MI', 'Rhinelander, WI', 'International Falls, MN',\n",
       "       'Iron Mountain/Kingsfd, MI', 'Aspen, CO', 'Flagstaff, AZ',\n",
       "       'Yuma, AZ', 'Santa Fe, NM', 'Traverse City, MI', 'La Crosse, WI',\n",
       "       'Meridian, MS', 'Hattiesburg/Laurel, MS', 'Bullhead City, AZ',\n",
       "       'South Bend, IN', 'Columbus, MS', 'Saginaw/Bay City/Midland, MI',\n",
       "       'Dothan, AL', 'Lansing, MI', 'State College, PA',\n",
       "       'Newburgh/Poughkeepsie, NY', 'Erie, PA', 'Duluth, MN',\n",
       "       'Shreveport, LA', 'Idaho Falls, ID', 'Williston, ND',\n",
       "       'Grand Forks, ND', 'Minot, ND', 'Pueblo, CO',\n",
       "       'Hancock/Houghton, MI', 'Clarksburg/Fairmont, WV',\n",
       "       'Springfield, IL', 'Rock Springs, WY', 'Jamestown, ND',\n",
       "       'Devils Lake, ND', 'Gillette, WY', 'Eau Claire, WI', 'Hays, KS',\n",
       "       'Cedar City, UT', 'Toledo, OH', 'Cape Girardeau, MO',\n",
       "       'Muskegon, MI', 'Paducah, KY', 'Quincy, IL', 'Laramie, WY',\n",
       "       'North Bend/Coos Bay, OR', 'Redding, CA', 'Columbia, MO',\n",
       "       'Arcata/Eureka, CA', 'Mosinee, WI', 'Fort Smith, AR',\n",
       "       'Lake Charles, LA', 'Alexandria, LA', 'College Station/Bryan, TX',\n",
       "       'Laredo, TX', 'Hobbs, NM', 'Dubuque, IA',\n",
       "       'Manhattan/Ft. Riley, KS', 'Waco, TX', 'Joplin, MO',\n",
       "       'San Angelo, TX', 'Lawton/Fort Sill, OK',\n",
       "       'Beaumont/Port Arthur, TX', 'Tyler, TX', 'Champaign/Urbana, IL',\n",
       "       'Aguadilla, PR', 'Niagara Falls, NY', 'Plattsburgh, NY',\n",
       "       'Dickinson, ND', 'Bethel, AK', 'Barrow, AK', 'Yakutat, AK',\n",
       "       'Cordova, AK', 'Juneau, AK', 'Ketchikan, AK', 'Sitka, AK',\n",
       "       'Petersburg, AK', 'Wrangell, AK', 'Nome, AK', 'Kotzebue, AK',\n",
       "       'Adak Island, AK', 'Kodiak, AK', 'Columbus, GA', 'Brunswick, GA',\n",
       "       'Valdosta, GA', 'Albany, GA', 'New Bern/Morehead/Beaufort, NC',\n",
       "       'Scottsbluff, NE', 'Ponce, PR', 'Worcester, MA',\n",
       "       'Wichita Falls, TX', 'Sioux City, IA', 'Abilene, TX',\n",
       "       'Garden City, KS', 'Texarkana, AR', 'Waterloo, IA', 'Saipan, TT',\n",
       "       'Rota, TT', 'Watertown, NY', 'Greenville, NC', 'Williamsport, PA',\n",
       "       'Salisbury, MD', 'Ashland, WV', 'Florence, SC', 'Hilton Head, SC',\n",
       "       'St. Petersburg, FL', 'Belleville, IL', 'Sanford, FL',\n",
       "       'Owensboro, KY', 'Punta Gorda, FL', 'Concord, NC', 'Ogden, UT',\n",
       "       'Rockford, IL', 'Provo, UT', 'Youngstown/Warren, OH',\n",
       "       'Stockton, CA', 'Portsmouth, NH', 'Ogdensburg, NY',\n",
       "       'St. Cloud, MN', 'Santa Maria, CA', 'Hagerstown, MD',\n",
       "       'Longview, TX', 'Stillwater, OK', \"Martha's Vineyard, MA\",\n",
       "       'Nantucket, MA', 'Kearney, NE', 'Vernal, UT', 'Staunton, VA',\n",
       "       'Lewisburg, WV', 'Salina, KS', 'Liberal, KS', 'Moab, UT',\n",
       "       'North Platte, NE', 'Prescott, AZ', 'Branson, MO',\n",
       "       'Presque Isle/Houlton, ME', 'Cheyenne, WY', 'Del Rio, TX',\n",
       "       'West Yellowstone, MT', 'Hyannis, MA', 'Gustavus, AK',\n",
       "       'Dillingham, AK', 'King Salmon, AK', 'CONCORD, NC', 'Everett, WA',\n",
       "       'Pierre, SD', 'Watertown, SD', 'Riverton/Lander, WY',\n",
       "       'Sheridan, WY', 'Cold Bay, AK', 'Decatur, IL', 'Dodge City, KS',\n",
       "       'Alamosa, CO', 'Victoria, TX', 'Johnstown, PA', 'Wilmington, DE',\n",
       "       'Mason City, IA', 'Fort Dodge, IA', 'Fort Leonard Wood, MO',\n",
       "       'Bishop, CA'], dtype=object)"
      ]
     },
     "execution_count": 13,
     "metadata": {},
     "output_type": "execute_result"
    }
   ],
   "source": [
    "# Check destination city names. \n",
    "# Source: https://www.geeksforgeeks.org/get-unique-values-from-a-column-in-pandas-dataframe/\n",
    "df.DestCityName.unique()"
   ]
  },
  {
   "cell_type": "code",
   "execution_count": 14,
   "id": "4f49f0d9-f33d-49c3-be1a-3fd9349fe648",
   "metadata": {},
   "outputs": [
    {
     "data": {
      "text/plain": [
       "array([2018, 2019, 2020, 2021, 2022, 2023], dtype=int64)"
      ]
     },
     "execution_count": 14,
     "metadata": {},
     "output_type": "execute_result"
    }
   ],
   "source": [
    "# Check years.\n",
    "# Source: https://www.geeksforgeeks.org/get-unique-values-from-a-column-in-pandas-dataframe/\n",
    "df.Year.unique()"
   ]
  },
  {
   "cell_type": "code",
   "execution_count": 15,
   "id": "7525dd98-aded-4f0f-b62e-f1f50bbdd398",
   "metadata": {},
   "outputs": [
    {
     "data": {
      "text/plain": [
       "<matplotlib.collections.PathCollection at 0x1f3ee5641d0>"
      ]
     },
     "execution_count": 15,
     "metadata": {},
     "output_type": "execute_result"
    },
    {
     "data": {
      "image/png": "[encoded data removed]",
      "text/plain": [
       "<Figure size 640x480 with 1 Axes>"
      ]
     },
     "metadata": {},
     "output_type": "display_data"
    }
   ],
   "source": [
    "# Initial simple scatter plot visual based on year.\n",
    "plt.scatter(df.Year, df.WeatherDelay)"
   ]
  },
  {
   "cell_type": "markdown",
   "id": "1fbdad08-47b9-4e04-b9ce-7752582104b6",
   "metadata": {},
   "source": [
    "# Data Cleaning\n",
    "\n",
    "Initial dataset is very clean, and only minor adjustments are needed for the analysis.\n",
    "\n",
    "Based on the above information these steps will be performed:\n",
    "\n",
    "Columns 'DayofMonth', 'Marketing_Airline_Network', 'CRSDepTime', 'DepTime', 'DepDelayMinutes', 'TaxiOut', 'WheelsOff', 'WheelsOn', 'TaxiIn', 'CRSArrTime', 'ArrTime', 'ArrDelayMinutes', 'CRSElapsedTime', 'ActualElapsedTime', 'AirTime', 'Distance', 'DistanceGroup' will be removed, as they will not be used in analysis.\n",
    "\n",
    "Origin City and Departure City will have their States split off into Origin State and Departure State for possilbe use in data analysis.\n",
    "\n",
    "Floats will be converted to ints. This will be done to simplify the analysis.\n",
    "\n",
    "New column CleanDates will be created. This column will be used in the regression model, as the Flight Date Column will not be readable by the model."
   ]
  },
  {
   "cell_type": "markdown",
   "id": "27b10332-b2f8-492e-aaf0-5ba17833baa2",
   "metadata": {},
   "source": [
    "## Column Removal\n",
    "\n",
    "Removal of Columns 'DayofMonth', 'Marketing_Airline_Network', 'CRSDepTime', 'DepTime', 'DepDelayMinutes', 'TaxiOut', 'WheelsOff', 'WheelsOn', 'TaxiIn', 'CRSArrTime', 'ArrTime', 'ArrDelayMinutes', 'CRSElapsedTime', 'ActualElapsedTime', 'AirTime', 'Distance', 'DistanceGroup'."
   ]
  },
  {
   "cell_type": "code",
   "execution_count": 18,
   "id": "7e28ab2f-0e0b-4787-99a6-f1cfa3c746f1",
   "metadata": {},
   "outputs": [
    {
     "name": "stdout",
     "output_type": "stream",
     "text": [
      "<class 'pandas.core.frame.DataFrame'>\n",
      "Index: 30132672 entries, 1 to 596675\n",
      "Data columns (total 29 columns):\n",
      " #   Column                     Dtype  \n",
      "---  ------                     -----  \n",
      " 0   Year                       int64  \n",
      " 1   Month                      int64  \n",
      " 2   DayofMonth                 int64  \n",
      " 3   FlightDate                 object \n",
      " 4   Marketing_Airline_Network  object \n",
      " 5   OriginCityName             object \n",
      " 6   DestCityName               object \n",
      " 7   CRSDepTime                 int64  \n",
      " 8   DepTime                    float64\n",
      " 9   DepDelay                   float64\n",
      " 10  DepDelayMinutes            float64\n",
      " 11  TaxiOut                    float64\n",
      " 12  WheelsOff                  float64\n",
      " 13  WheelsOn                   float64\n",
      " 14  TaxiIn                     float64\n",
      " 15  CRSArrTime                 int64  \n",
      " 16  ArrTime                    float64\n",
      " 17  ArrDelay                   float64\n",
      " 18  ArrDelayMinutes            float64\n",
      " 19  CRSElapsedTime             float64\n",
      " 20  ActualElapsedTime          float64\n",
      " 21  AirTime                    float64\n",
      " 22  Distance                   float64\n",
      " 23  DistanceGroup              int64  \n",
      " 24  CarrierDelay               float64\n",
      " 25  WeatherDelay               float64\n",
      " 26  NASDelay                   float64\n",
      " 27  SecurityDelay              float64\n",
      " 28  LateAircraftDelay          float64\n",
      "dtypes: float64(19), int64(6), object(4)\n",
      "memory usage: 6.7+ GB\n"
     ]
    }
   ],
   "source": [
    "# Check columns for removal.\n",
    "df.info()"
   ]
  },
  {
   "cell_type": "code",
   "execution_count": 19,
   "id": "5898fa65-fec0-4699-bcc4-eb92c71e67b5",
   "metadata": {},
   "outputs": [],
   "source": [
    "# Drop columns, asign to new dataframe.\n",
    "df_clean = df.drop(['DayofMonth', 'Marketing_Airline_Network', 'CRSDepTime', 'DepTime', 'DepDelayMinutes',\n",
    "                    'TaxiOut', 'WheelsOff', 'WheelsOn', 'TaxiIn', 'CRSArrTime', 'ArrTime', 'ArrDelayMinutes',\n",
    "                    'CRSElapsedTime', 'ActualElapsedTime', 'AirTime', 'Distance', 'DistanceGroup'], axis=1)"
   ]
  },
  {
   "cell_type": "code",
   "execution_count": 20,
   "id": "bf14ac6d-1861-4958-adcb-2cd430a10576",
   "metadata": {},
   "outputs": [
    {
     "name": "stdout",
     "output_type": "stream",
     "text": [
      "<class 'pandas.core.frame.DataFrame'>\n",
      "Index: 30132672 entries, 1 to 596675\n",
      "Data columns (total 12 columns):\n",
      " #   Column             Dtype  \n",
      "---  ------             -----  \n",
      " 0   Year               int64  \n",
      " 1   Month              int64  \n",
      " 2   FlightDate         object \n",
      " 3   OriginCityName     object \n",
      " 4   DestCityName       object \n",
      " 5   DepDelay           float64\n",
      " 6   ArrDelay           float64\n",
      " 7   CarrierDelay       float64\n",
      " 8   WeatherDelay       float64\n",
      " 9   NASDelay           float64\n",
      " 10  SecurityDelay      float64\n",
      " 11  LateAircraftDelay  float64\n",
      "dtypes: float64(7), int64(2), object(3)\n",
      "memory usage: 2.9+ GB\n"
     ]
    }
   ],
   "source": [
    "# Check for dropped columns.\n",
    "df_clean.info()"
   ]
  },
  {
   "cell_type": "markdown",
   "id": "518ecbcb-880c-457e-b1d1-6aaed97edb75",
   "metadata": {},
   "source": [
    "## Column Splitting\n",
    "\n",
    "Splitting off of Origin City and Departure City into state and city columns."
   ]
  },
  {
   "cell_type": "code",
   "execution_count": 22,
   "id": "27b58137-a8c2-482a-a38d-9990818a0a11",
   "metadata": {},
   "outputs": [],
   "source": [
    "# Split OriginCityName, assign to split. Source: https://www.geeksforgeeks.org/python-pandas-split-strings-into-two-list-columns-using-str-split/\n",
    "split = df_clean.OriginCityName.str.split(', ', n=1, expand=True)"
   ]
  },
  {
   "cell_type": "code",
   "execution_count": 23,
   "id": "38aeeb58-045d-4d59-804a-0ee8ab02e3c6",
   "metadata": {},
   "outputs": [
    {
     "data": {
      "text/html": [
       "<div>\n",
       "<style scoped>\n",
       "    .dataframe tbody tr th:only-of-type {\n",
       "        vertical-align: middle;\n",
       "    }\n",
       "\n",
       "    .dataframe tbody tr th {\n",
       "        vertical-align: top;\n",
       "    }\n",
       "\n",
       "    .dataframe thead th {\n",
       "        text-align: right;\n",
       "    }\n",
       "</style>\n",
       "<table border=\"1\" class=\"dataframe\">\n",
       "  <thead>\n",
       "    <tr style=\"text-align: right;\">\n",
       "      <th></th>\n",
       "      <th>0</th>\n",
       "      <th>1</th>\n",
       "    </tr>\n",
       "  </thead>\n",
       "  <tbody>\n",
       "    <tr>\n",
       "      <th>1</th>\n",
       "      <td>Newark</td>\n",
       "      <td>NJ</td>\n",
       "    </tr>\n",
       "    <tr>\n",
       "      <th>2</th>\n",
       "      <td>Newark</td>\n",
       "      <td>NJ</td>\n",
       "    </tr>\n",
       "    <tr>\n",
       "      <th>3</th>\n",
       "      <td>Newark</td>\n",
       "      <td>NJ</td>\n",
       "    </tr>\n",
       "    <tr>\n",
       "      <th>4</th>\n",
       "      <td>Newark</td>\n",
       "      <td>NJ</td>\n",
       "    </tr>\n",
       "    <tr>\n",
       "      <th>6</th>\n",
       "      <td>Newark</td>\n",
       "      <td>NJ</td>\n",
       "    </tr>\n",
       "  </tbody>\n",
       "</table>\n",
       "</div>"
      ],
      "text/plain": [
       "        0   1\n",
       "1  Newark  NJ\n",
       "2  Newark  NJ\n",
       "3  Newark  NJ\n",
       "4  Newark  NJ\n",
       "6  Newark  NJ"
      ]
     },
     "execution_count": 23,
     "metadata": {},
     "output_type": "execute_result"
    }
   ],
   "source": [
    "# Check data.\n",
    "split.head()"
   ]
  },
  {
   "cell_type": "code",
   "execution_count": 24,
   "id": "eb791fd2-3ce5-43ca-bd4b-e482ea63fe31",
   "metadata": {},
   "outputs": [],
   "source": [
    "# Create two new columns with the split data.\n",
    "# Source: https://www.geeksforgeeks.org/python-pandas-split-strings-into-two-list-columns-using-str-split/\n",
    "df_clean['OriginCity'] = split[0]\n",
    "df_clean['OriginState'] = split[1]"
   ]
  },
  {
   "cell_type": "code",
   "execution_count": 25,
   "id": "f0be3f71-0578-4351-aafa-7ec4908181e1",
   "metadata": {},
   "outputs": [],
   "source": [
    "# Drop the orignal column.\n",
    "df_clean.drop(columns='OriginCityName', inplace=True)"
   ]
  },
  {
   "cell_type": "code",
   "execution_count": 26,
   "id": "02282a3c-f4c9-4e19-883e-a65dfdd9f70b",
   "metadata": {},
   "outputs": [],
   "source": [
    "# Split DestCityName, assign to split.\n",
    "# Source: https://www.geeksforgeeks.org/python-pandas-split-strings-into-two-list-columns-using-str-split/\n",
    "split = df_clean.DestCityName.str.split(', ', n=1, expand=True)"
   ]
  },
  {
   "cell_type": "code",
   "execution_count": 27,
   "id": "b58f1a57-fe2d-42da-84a6-07f6a6bb195a",
   "metadata": {},
   "outputs": [
    {
     "data": {
      "text/html": [
       "<div>\n",
       "<style scoped>\n",
       "    .dataframe tbody tr th:only-of-type {\n",
       "        vertical-align: middle;\n",
       "    }\n",
       "\n",
       "    .dataframe tbody tr th {\n",
       "        vertical-align: top;\n",
       "    }\n",
       "\n",
       "    .dataframe thead th {\n",
       "        text-align: right;\n",
       "    }\n",
       "</style>\n",
       "<table border=\"1\" class=\"dataframe\">\n",
       "  <thead>\n",
       "    <tr style=\"text-align: right;\">\n",
       "      <th></th>\n",
       "      <th>0</th>\n",
       "      <th>1</th>\n",
       "    </tr>\n",
       "  </thead>\n",
       "  <tbody>\n",
       "    <tr>\n",
       "      <th>1</th>\n",
       "      <td>Charleston</td>\n",
       "      <td>SC</td>\n",
       "    </tr>\n",
       "    <tr>\n",
       "      <th>2</th>\n",
       "      <td>Charleston</td>\n",
       "      <td>SC</td>\n",
       "    </tr>\n",
       "    <tr>\n",
       "      <th>3</th>\n",
       "      <td>Charleston</td>\n",
       "      <td>SC</td>\n",
       "    </tr>\n",
       "    <tr>\n",
       "      <th>4</th>\n",
       "      <td>Charleston</td>\n",
       "      <td>SC</td>\n",
       "    </tr>\n",
       "    <tr>\n",
       "      <th>6</th>\n",
       "      <td>Charleston</td>\n",
       "      <td>SC</td>\n",
       "    </tr>\n",
       "  </tbody>\n",
       "</table>\n",
       "</div>"
      ],
      "text/plain": [
       "            0   1\n",
       "1  Charleston  SC\n",
       "2  Charleston  SC\n",
       "3  Charleston  SC\n",
       "4  Charleston  SC\n",
       "6  Charleston  SC"
      ]
     },
     "execution_count": 27,
     "metadata": {},
     "output_type": "execute_result"
    }
   ],
   "source": [
    "# Check data.\n",
    "split.head()"
   ]
  },
  {
   "cell_type": "code",
   "execution_count": 28,
   "id": "1b0b869a-8eb4-4e16-879b-337b281aeefa",
   "metadata": {},
   "outputs": [],
   "source": [
    "# Create two new columns with the split data.\n",
    "# Source: https://www.geeksforgeeks.org/python-pandas-split-strings-into-two-list-columns-using-str-split/\n",
    "df_clean['DestCity'] = split[0]\n",
    "df_clean['DestState'] = split[1]"
   ]
  },
  {
   "cell_type": "code",
   "execution_count": 29,
   "id": "9f335b72-6209-4271-bd37-5ee487e6c541",
   "metadata": {},
   "outputs": [],
   "source": [
    "# Drop the orignal column.\n",
    "df_clean.drop(columns='DestCityName', inplace=True)"
   ]
  },
  {
   "cell_type": "code",
   "execution_count": 30,
   "id": "bab243bf-c428-475c-ba1d-3cf58f7f261e",
   "metadata": {},
   "outputs": [
    {
     "name": "stdout",
     "output_type": "stream",
     "text": [
      "<class 'pandas.core.frame.DataFrame'>\n",
      "Index: 30132672 entries, 1 to 596675\n",
      "Data columns (total 14 columns):\n",
      " #   Column             Dtype  \n",
      "---  ------             -----  \n",
      " 0   Year               int64  \n",
      " 1   Month              int64  \n",
      " 2   FlightDate         object \n",
      " 3   DepDelay           float64\n",
      " 4   ArrDelay           float64\n",
      " 5   CarrierDelay       float64\n",
      " 6   WeatherDelay       float64\n",
      " 7   NASDelay           float64\n",
      " 8   SecurityDelay      float64\n",
      " 9   LateAircraftDelay  float64\n",
      " 10  OriginCity         object \n",
      " 11  OriginState        object \n",
      " 12  DestCity           object \n",
      " 13  DestState          object \n",
      "dtypes: float64(7), int64(2), object(5)\n",
      "memory usage: 3.4+ GB\n"
     ]
    }
   ],
   "source": [
    "# Check that columns were dropped, new columns exist.\n",
    "df_clean.info()"
   ]
  },
  {
   "cell_type": "code",
   "execution_count": 31,
   "id": "b964824f-3c30-48dd-8055-679302e05e7d",
   "metadata": {
    "scrolled": true
   },
   "outputs": [
    {
     "data": {
      "text/plain": [
       "array(['Newark', 'Providence', 'Chicago', 'Lafayette', 'Houston',\n",
       "       'Gulfport/Biloxi', 'Tulsa', 'Greer', 'Mobile', 'Huntsville',\n",
       "       'Little Rock', 'Corpus Christi', 'Des Moines', 'Burlington',\n",
       "       'Atlanta', 'Charleston/Dunbar', 'Lexington', 'Nashville',\n",
       "       'Minneapolis', 'Richmond', 'Cleveland', 'Detroit', 'White Plains',\n",
       "       'Birmingham', 'Jackson/Vicksburg', 'Louisville', 'Orlando',\n",
       "       'Columbia', 'New York', 'Fayetteville',\n",
       "       'Newport News/Williamsburg', 'Lincoln', 'Cincinnati', 'Charleston',\n",
       "       'Tallahassee', 'Pittsburgh', 'Charlotte', 'Philadelphia',\n",
       "       'Hartford', 'Savannah', 'Panama City', 'Valparaiso', 'St. Louis',\n",
       "       'Killeen', 'Key West', 'Milwaukee', 'Springfield', 'Evansville',\n",
       "       'Knoxville', 'Bloomington/Normal', 'Allentown/Bethlehem/Easton',\n",
       "       'Boston', 'Omaha', 'Greensboro/High Point', 'Memphis', 'Moline',\n",
       "       'Kalamazoo', 'Bristol/Johnson City/Kingsport', 'Augusta',\n",
       "       'Gainesville', 'Grand Rapids', 'Buffalo', 'Myrtle Beach',\n",
       "       'Raleigh/Durham', 'Appleton', 'Rochester', 'Asheville',\n",
       "       'Chattanooga', 'Norfolk', 'Madison', 'Portland', 'Baton Rouge',\n",
       "       'Elmira/Corning', 'Columbus', 'Cedar Rapids/Iowa City',\n",
       "       'Harrisburg', 'Syracuse', 'Jacksonville', 'Washington',\n",
       "       'Fort Myers', 'Tampa', 'Denver', 'Islip', 'Las Vegas', 'Austin',\n",
       "       'Trenton', 'San Diego', 'Dallas/Fort Worth', 'Salt Lake City',\n",
       "       'Albuquerque', 'Los Angeles', 'San Francisco', 'Phoenix', 'Miami',\n",
       "       'Oklahoma City', 'Colorado Springs', 'Ontario', 'Seattle',\n",
       "       'New Orleans', 'Santa Ana', 'Palm Springs', 'San Jose',\n",
       "       'Kansas City', 'West Palm Beach/Palm Beach', 'Indianapolis',\n",
       "       'San Antonio', 'San Juan', 'Reno', 'Baltimore', 'Fort Lauderdale',\n",
       "       'Niagara Falls', 'Latrobe', 'Atlantic City', 'Akron',\n",
       "       'Daytona Beach', 'Dayton', 'New Haven', 'Manchester',\n",
       "       'Jacksonville/Camp Lejeune', 'Melbourne', 'Sarasota/Bradenton',\n",
       "       'Charlottesville', 'Pensacola', 'Wilmington', 'Albany',\n",
       "       'Fort Wayne', 'Lynchburg', 'Toledo', 'Hayden', 'Bozeman', 'Eugene',\n",
       "       'Boise', 'Spokane', 'Tucson', 'Honolulu', 'Kona', 'Kahului',\n",
       "       'Eagle', 'Sacramento', 'Gunnison', 'Mission/McAllen/Edinburg',\n",
       "       'Lihue', 'Anchorage', 'Aguadilla', 'Montrose/Delta', 'Billings',\n",
       "       'Jackson', 'Guam', 'Wichita', 'Hilo', 'Burbank', 'Medford',\n",
       "       'Santa Barbara', 'Fresno', 'Sioux Falls', 'Amarillo', 'Dallas',\n",
       "       'El Paso', 'Flint', 'Harlingen/San Benito', 'Lubbock',\n",
       "       'Long Beach', 'Midland/Odessa', 'Oakland', 'Brownsville', 'Peoria',\n",
       "       'Rapid City', 'Durango', 'Monterey', 'Bakersfield',\n",
       "       'San Luis Obispo', 'Grand Island', 'Montgomery', 'Christiansted',\n",
       "       'Yakima', 'Lewiston', 'Wenatchee', 'Bend/Redmond', 'Pullman',\n",
       "       'Walla Walla', 'Helena', 'Mammoth Lakes',\n",
       "       'Pasco/Kennewick/Richland', 'Missoula', 'Great Falls',\n",
       "       'Sun Valley/Hailey/Ketchum', 'Santa Rosa', 'Bellingham',\n",
       "       'Fairbanks', 'Deadhorse', 'Kalispell', 'Unalaska',\n",
       "       'Charlotte Amalie', 'Roanoke', 'Bismarck/Mandan',\n",
       "       'Scranton/Wilkes-Barre', 'Fargo', 'Green Bay', 'Pago Pago',\n",
       "       'Hoolehua', 'Lanai', 'Kapalua', 'Roswell', 'Bangor', 'Aberdeen',\n",
       "       'Grand Junction', 'Alpena', 'Escanaba', 'Pellston', 'Bemidji',\n",
       "       'Casper', 'Brainerd', 'Butte', 'Cedar City', 'Elko', 'St. George',\n",
       "       'Cody', 'Hibbing', 'Binghamton', 'Twin Falls', 'Marquette',\n",
       "       'Sault Ste. Marie', 'Rhinelander', 'Ithaca/Cortland', 'La Crosse',\n",
       "       'International Falls', 'Pocatello', 'Aspen', 'Flagstaff', 'Yuma',\n",
       "       'Traverse City', 'Meridian', 'Hattiesburg/Laurel', 'Santa Fe',\n",
       "       'Bullhead City', 'South Bend', 'Lansing', 'State College',\n",
       "       'Newburgh/Poughkeepsie', 'Erie', 'Iron Mountain/Kingsfd', 'Duluth',\n",
       "       'Williston', 'Saginaw/Bay City/Midland', 'Minot', 'Monroe',\n",
       "       'Dothan', 'Shreveport', 'Hancock/Houghton', 'Gillette',\n",
       "       'Clarksburg/Fairmont', 'Rock Springs', 'Pueblo', 'Muskegon',\n",
       "       'Devils Lake', 'Jamestown', 'Laramie', 'Hays', 'Paducah',\n",
       "       'Idaho Falls', 'Arcata/Eureka', 'Grand Forks', 'Quincy',\n",
       "       'Eau Claire', 'Cape Girardeau', 'North Bend/Coos Bay', 'Mosinee',\n",
       "       'Redding', 'Fort Smith', 'Laredo', 'College Station/Bryan',\n",
       "       'Lake Charles', 'Alexandria', 'Hobbs', 'Dubuque', 'Waco', 'Tyler',\n",
       "       'Manhattan/Ft. Riley', 'Joplin', 'Champaign/Urbana', 'San Angelo',\n",
       "       'Lawton/Fort Sill', 'Stillwater', 'Beaumont/Port Arthur',\n",
       "       'Sioux City', 'Plattsburgh', 'Dickinson', 'Kodiak', 'Bethel',\n",
       "       'Barrow', 'Ketchikan', 'Juneau', 'Yakutat', 'Cordova', 'Sitka',\n",
       "       'Wrangell', 'Petersburg', 'Nome', 'Kotzebue', 'Adak Island',\n",
       "       'Brunswick', 'Valdosta', 'Scottsbluff', 'Ponce', 'Worcester',\n",
       "       'Wichita Falls', 'Abilene', 'Longview', 'Garden City', 'Waterloo',\n",
       "       'Saipan', 'Rota', 'Ashland', 'Greenville',\n",
       "       'New Bern/Morehead/Beaufort', 'Watertown', 'Salisbury',\n",
       "       'Williamsport', 'Florence', 'Hilton Head', 'St. Petersburg',\n",
       "       'Hagerstown', 'Sanford', 'Rockford', 'Owensboro', 'Punta Gorda',\n",
       "       'Concord', 'Ogden', 'Provo', 'Belleville', 'Stockton',\n",
       "       'Portsmouth', 'Ogdensburg', 'St. Cloud', 'Santa Maria',\n",
       "       'Youngstown/Warren', 'Texarkana', 'Nantucket', \"Martha's Vineyard\",\n",
       "       'Lewisburg', 'Staunton', 'North Platte', 'Kearney', 'Salina',\n",
       "       'Vernal', 'Moab', 'Liberal', 'Prescott', 'Branson',\n",
       "       'Presque Isle/Houlton', 'Cheyenne', 'Del Rio', 'West Yellowstone',\n",
       "       'Hyannis', 'Gustavus', 'King Salmon', 'Dillingham', 'CONCORD',\n",
       "       'Everett', 'Pierre', 'Sheridan', 'Riverton/Lander', 'Cold Bay',\n",
       "       'Dodge City', 'Decatur', 'Alamosa', 'Victoria', 'Johnstown',\n",
       "       'Mason City', 'Fort Leonard Wood', 'Fort Dodge', 'Bishop'],\n",
       "      dtype=object)"
      ]
     },
     "execution_count": 31,
     "metadata": {},
     "output_type": "execute_result"
    }
   ],
   "source": [
    "# Check origin city names. \n",
    "# Source: https://www.geeksforgeeks.org/get-unique-values-from-a-column-in-pandas-dataframe/\n",
    "df_clean.OriginCity.unique()"
   ]
  },
  {
   "cell_type": "code",
   "execution_count": 32,
   "id": "0a837bd7-6fdb-482d-8b53-a778bd77a353",
   "metadata": {},
   "outputs": [
    {
     "data": {
      "text/plain": [
       "array(['NJ', 'RI', 'IL', 'LA', 'TX', 'MS', 'OK', 'SC', 'AL', 'AR', 'IA',\n",
       "       'VT', 'GA', 'WV', 'KY', 'TN', 'MN', 'VA', 'OH', 'MI', 'NY', 'FL',\n",
       "       'NE', 'PA', 'NC', 'CT', 'MO', 'WI', 'IN', 'MA', 'ME', 'DC', 'CO',\n",
       "       'NV', 'CA', 'UT', 'NM', 'AZ', 'WA', 'OR', 'PR', 'MD', 'NH', 'MT',\n",
       "       'ID', 'HI', 'AK', 'WY', 'TT', 'KS', 'SD', 'VI', 'ND', 'DE'],\n",
       "      dtype=object)"
      ]
     },
     "execution_count": 32,
     "metadata": {},
     "output_type": "execute_result"
    }
   ],
   "source": [
    "# Check origin state names. \n",
    "# Source: https://www.geeksforgeeks.org/get-unique-values-from-a-column-in-pandas-dataframe/\n",
    "df_clean.OriginState.unique()"
   ]
  },
  {
   "cell_type": "code",
   "execution_count": 33,
   "id": "3bfb7a05-ceab-47fd-a8fa-1ac1676735f8",
   "metadata": {
    "scrolled": true
   },
   "outputs": [
    {
     "data": {
      "text/plain": [
       "array(['Charleston', 'Newark', 'Fayetteville', 'Houston', 'Monroe',\n",
       "       'Oklahoma City', 'Baton Rouge', 'Panama City', 'Chicago',\n",
       "       'Des Moines', 'Springfield', 'Savannah', 'Amarillo', 'Lexington',\n",
       "       'Indianapolis', 'Charleston/Dunbar', 'Huntsville', 'Atlanta',\n",
       "       'Detroit', 'Minneapolis', 'New York', 'Cleveland', 'White Plains',\n",
       "       'Boston', 'Richmond', 'Jackson/Vicksburg', 'Tulsa', 'Orlando',\n",
       "       'Birmingham', 'Louisville', 'Greer', 'Key West', 'Milwaukee',\n",
       "       'Newport News/Williamsburg', 'Augusta', 'Lincoln', 'Charlotte',\n",
       "       'Nashville', 'Philadelphia', 'Killeen', 'Evansville', 'Hartford',\n",
       "       'St. Louis', 'Cincinnati', 'Madison', 'Greensboro/High Point',\n",
       "       'Knoxville', 'Gulfport/Biloxi', 'Pittsburgh', 'Columbia',\n",
       "       'Valparaiso', 'Bloomington/Normal', 'Allentown/Bethlehem/Easton',\n",
       "       'Kalamazoo', 'Memphis', 'Tallahassee',\n",
       "       'Bristol/Johnson City/Kingsport', 'Grand Rapids', 'Norfolk',\n",
       "       'Gainesville', 'Buffalo', 'Myrtle Beach', 'Rochester', 'Appleton',\n",
       "       'Asheville', 'Omaha', 'Portland', 'Raleigh/Durham',\n",
       "       'Cedar Rapids/Iowa City', 'Elmira/Corning', 'Columbus',\n",
       "       'Washington', 'Syracuse', 'Jacksonville', 'Moline', 'Trenton',\n",
       "       'Islip', 'San Francisco', 'Phoenix', 'Los Angeles', 'Miami',\n",
       "       'San Juan', 'Tampa', 'Las Vegas', 'Denver', 'New Orleans',\n",
       "       'Colorado Springs', 'Kansas City', 'Fort Myers', 'Seattle',\n",
       "       'Austin', 'Ontario', 'San Diego', 'Santa Ana', 'Salt Lake City',\n",
       "       'Providence', 'San Jose', 'West Palm Beach/Palm Beach',\n",
       "       'Albuquerque', 'Dallas/Fort Worth', 'San Antonio', 'Reno',\n",
       "       'Palm Springs', 'Baltimore', 'Fort Lauderdale', 'Oakland',\n",
       "       'Latrobe', 'Atlantic City', 'Chattanooga', 'Little Rock', 'Akron',\n",
       "       'Charlottesville', 'Dayton', 'Daytona Beach', 'New Haven',\n",
       "       'Manchester', 'Jacksonville/Camp Lejeune', 'Melbourne', 'Mobile',\n",
       "       'Burlington', 'Sarasota/Bradenton', 'Pensacola', 'Wilmington',\n",
       "       'Scranton/Wilkes-Barre', 'Albany', 'Harrisburg', 'Fort Wayne',\n",
       "       'Lynchburg', 'Sioux Falls', 'Tucson', 'Sacramento', 'Kona',\n",
       "       'Kahului', 'Lihue', 'Honolulu', 'Eagle', 'Jackson', 'Gunnison',\n",
       "       'Anchorage', 'Hilo', 'Bozeman', 'Spokane', 'Montrose/Delta',\n",
       "       'Billings', 'Eugene', 'Boise', 'Mission/McAllen/Edinburg', 'Guam',\n",
       "       'Wichita', 'Hayden', 'Burbank', 'Fresno', 'Santa Barbara',\n",
       "       'Medford', 'Dallas', 'Long Beach', 'El Paso',\n",
       "       'Harlingen/San Benito', 'Lubbock', 'Midland/Odessa',\n",
       "       'Corpus Christi', 'Flint', 'Brownsville', 'Lafayette',\n",
       "       'San Luis Obispo', 'Rapid City', 'Monterey', 'Bakersfield',\n",
       "       'Durango', 'Montgomery', 'Christiansted', 'Yakima', 'Bend/Redmond',\n",
       "       'Lewiston', 'Walla Walla', 'Wenatchee', 'Kalispell', 'Pullman',\n",
       "       'Mammoth Lakes', 'Pasco/Kennewick/Richland',\n",
       "       'Sun Valley/Hailey/Ketchum', 'Santa Rosa', 'Great Falls',\n",
       "       'Missoula', 'Bellingham', 'Fairbanks', 'Deadhorse', 'Helena',\n",
       "       'Unalaska', 'Charlotte Amalie', 'Bismarck/Mandan', 'Roanoke',\n",
       "       'Fargo', 'Green Bay', 'Pago Pago', 'Hoolehua', 'Lanai', 'Kapalua',\n",
       "       'Grand Island', 'Roswell', 'Peoria', 'Bangor', 'Pocatello',\n",
       "       'Aberdeen', 'Alpena', 'Escanaba', 'Bemidji', 'Casper', 'Brainerd',\n",
       "       'Butte', 'St. George', 'Sault Ste. Marie', 'Marquette', 'Elko',\n",
       "       'Grand Junction', 'Ithaca/Cortland', 'Cody', 'Hibbing',\n",
       "       'Binghamton', 'Twin Falls', 'Pellston', 'Rhinelander',\n",
       "       'International Falls', 'Iron Mountain/Kingsfd', 'Aspen',\n",
       "       'Flagstaff', 'Yuma', 'Santa Fe', 'Traverse City', 'La Crosse',\n",
       "       'Meridian', 'Hattiesburg/Laurel', 'Bullhead City', 'South Bend',\n",
       "       'Saginaw/Bay City/Midland', 'Dothan', 'Lansing', 'State College',\n",
       "       'Newburgh/Poughkeepsie', 'Erie', 'Duluth', 'Shreveport',\n",
       "       'Idaho Falls', 'Williston', 'Grand Forks', 'Minot', 'Pueblo',\n",
       "       'Hancock/Houghton', 'Clarksburg/Fairmont', 'Rock Springs',\n",
       "       'Jamestown', 'Devils Lake', 'Gillette', 'Eau Claire', 'Hays',\n",
       "       'Cedar City', 'Toledo', 'Cape Girardeau', 'Muskegon', 'Paducah',\n",
       "       'Quincy', 'Laramie', 'North Bend/Coos Bay', 'Redding',\n",
       "       'Arcata/Eureka', 'Mosinee', 'Fort Smith', 'Lake Charles',\n",
       "       'Alexandria', 'College Station/Bryan', 'Laredo', 'Hobbs',\n",
       "       'Dubuque', 'Manhattan/Ft. Riley', 'Waco', 'Joplin', 'San Angelo',\n",
       "       'Lawton/Fort Sill', 'Beaumont/Port Arthur', 'Tyler',\n",
       "       'Champaign/Urbana', 'Aguadilla', 'Niagara Falls', 'Plattsburgh',\n",
       "       'Dickinson', 'Bethel', 'Barrow', 'Yakutat', 'Cordova', 'Juneau',\n",
       "       'Ketchikan', 'Sitka', 'Petersburg', 'Wrangell', 'Nome', 'Kotzebue',\n",
       "       'Adak Island', 'Kodiak', 'Brunswick', 'Valdosta',\n",
       "       'New Bern/Morehead/Beaufort', 'Scottsbluff', 'Ponce', 'Worcester',\n",
       "       'Wichita Falls', 'Sioux City', 'Abilene', 'Garden City',\n",
       "       'Texarkana', 'Waterloo', 'Saipan', 'Rota', 'Watertown',\n",
       "       'Greenville', 'Williamsport', 'Salisbury', 'Ashland', 'Florence',\n",
       "       'Hilton Head', 'St. Petersburg', 'Belleville', 'Sanford',\n",
       "       'Owensboro', 'Punta Gorda', 'Concord', 'Ogden', 'Rockford',\n",
       "       'Provo', 'Youngstown/Warren', 'Stockton', 'Portsmouth',\n",
       "       'Ogdensburg', 'St. Cloud', 'Santa Maria', 'Hagerstown', 'Longview',\n",
       "       'Stillwater', \"Martha's Vineyard\", 'Nantucket', 'Kearney',\n",
       "       'Vernal', 'Staunton', 'Lewisburg', 'Salina', 'Liberal', 'Moab',\n",
       "       'North Platte', 'Prescott', 'Branson', 'Presque Isle/Houlton',\n",
       "       'Cheyenne', 'Del Rio', 'West Yellowstone', 'Hyannis', 'Gustavus',\n",
       "       'Dillingham', 'King Salmon', 'CONCORD', 'Everett', 'Pierre',\n",
       "       'Riverton/Lander', 'Sheridan', 'Cold Bay', 'Decatur', 'Dodge City',\n",
       "       'Alamosa', 'Victoria', 'Johnstown', 'Mason City', 'Fort Dodge',\n",
       "       'Fort Leonard Wood', 'Bishop'], dtype=object)"
      ]
     },
     "execution_count": 33,
     "metadata": {},
     "output_type": "execute_result"
    }
   ],
   "source": [
    "# Check destination city names. \n",
    "# Source: https://www.geeksforgeeks.org/get-unique-values-from-a-column-in-pandas-dataframe/\n",
    "df_clean.DestCity.unique()"
   ]
  },
  {
   "cell_type": "code",
   "execution_count": 34,
   "id": "6a434841-5b17-4208-aa27-eea357cf9d4c",
   "metadata": {},
   "outputs": [
    {
     "data": {
      "text/plain": [
       "array(['SC', 'NJ', 'AR', 'TX', 'LA', 'OK', 'FL', 'IL', 'IA', 'MO', 'GA',\n",
       "       'KY', 'IN', 'WV', 'AL', 'MI', 'MN', 'NY', 'OH', 'MA', 'VA', 'MS',\n",
       "       'WI', 'NE', 'NC', 'TN', 'PA', 'CT', 'ME', 'DC', 'CA', 'AZ', 'PR',\n",
       "       'NV', 'CO', 'WA', 'UT', 'OR', 'RI', 'NM', 'MD', 'NH', 'VT', 'SD',\n",
       "       'HI', 'WY', 'AK', 'MT', 'ID', 'TT', 'KS', 'VI', 'ND', 'DE'],\n",
       "      dtype=object)"
      ]
     },
     "execution_count": 34,
     "metadata": {},
     "output_type": "execute_result"
    }
   ],
   "source": [
    "# Check destination state names. \n",
    "# Source: https://www.geeksforgeeks.org/get-unique-values-from-a-column-in-pandas-dataframe/\n",
    "df_clean.DestState.unique()"
   ]
  },
  {
   "cell_type": "markdown",
   "id": "e90a3a3a-2941-469e-8d11-6c6f0775386b",
   "metadata": {},
   "source": [
    "## Column Conversion\n",
    "\n",
    "Conversion of float columns to int columns."
   ]
  },
  {
   "cell_type": "code",
   "execution_count": 36,
   "id": "7e0f86a7-2ac3-460b-96dc-3b9a0f6746c0",
   "metadata": {},
   "outputs": [
    {
     "name": "stdout",
     "output_type": "stream",
     "text": [
      "<class 'pandas.core.frame.DataFrame'>\n",
      "Index: 30132672 entries, 1 to 596675\n",
      "Data columns (total 14 columns):\n",
      " #   Column             Dtype  \n",
      "---  ------             -----  \n",
      " 0   Year               int64  \n",
      " 1   Month              int64  \n",
      " 2   FlightDate         object \n",
      " 3   DepDelay           float64\n",
      " 4   ArrDelay           float64\n",
      " 5   CarrierDelay       float64\n",
      " 6   WeatherDelay       float64\n",
      " 7   NASDelay           float64\n",
      " 8   SecurityDelay      float64\n",
      " 9   LateAircraftDelay  float64\n",
      " 10  OriginCity         object \n",
      " 11  OriginState        object \n",
      " 12  DestCity           object \n",
      " 13  DestState          object \n",
      "dtypes: float64(7), int64(2), object(5)\n",
      "memory usage: 3.4+ GB\n"
     ]
    }
   ],
   "source": [
    "# Check columns to convert.\n",
    "df_clean.info()"
   ]
  },
  {
   "cell_type": "code",
   "execution_count": 37,
   "id": "01e47966-0225-4b59-a8c5-a91ba2259b3b",
   "metadata": {},
   "outputs": [],
   "source": [
    "# Convert float column to int column. \n",
    "# Source: https://www.geeksforgeeks.org/convert-floats-to-integers-in-a-pandas-dataframe/\n",
    "df_clean = df_clean.astype({\"DepDelay\": 'int64', \"ArrDelay\": 'int64', \"CarrierDelay\": 'int64', \"WeatherDelay\": 'int64', \"NASDelay\": 'int64',\n",
    "                            \"SecurityDelay\": 'int64', \"LateAircraftDelay\": 'int64'})"
   ]
  },
  {
   "cell_type": "code",
   "execution_count": 38,
   "id": "72d012a5-cb29-4afd-a49b-2403ea3cc6c4",
   "metadata": {},
   "outputs": [
    {
     "name": "stdout",
     "output_type": "stream",
     "text": [
      "<class 'pandas.core.frame.DataFrame'>\n",
      "Index: 30132672 entries, 1 to 596675\n",
      "Data columns (total 14 columns):\n",
      " #   Column             Dtype \n",
      "---  ------             ----- \n",
      " 0   Year               int64 \n",
      " 1   Month              int64 \n",
      " 2   FlightDate         object\n",
      " 3   DepDelay           int64 \n",
      " 4   ArrDelay           int64 \n",
      " 5   CarrierDelay       int64 \n",
      " 6   WeatherDelay       int64 \n",
      " 7   NASDelay           int64 \n",
      " 8   SecurityDelay      int64 \n",
      " 9   LateAircraftDelay  int64 \n",
      " 10  OriginCity         object\n",
      " 11  OriginState        object\n",
      " 12  DestCity           object\n",
      " 13  DestState          object\n",
      "dtypes: int64(9), object(5)\n",
      "memory usage: 3.4+ GB\n"
     ]
    }
   ],
   "source": [
    "# Check that columns were changed.\n",
    "df_clean.info()"
   ]
  },
  {
   "cell_type": "code",
   "execution_count": 39,
   "id": "b3443fdd-3cb9-47c2-acc6-9c42435e17f5",
   "metadata": {},
   "outputs": [
    {
     "data": {
      "text/html": [
       "<div>\n",
       "<style scoped>\n",
       "    .dataframe tbody tr th:only-of-type {\n",
       "        vertical-align: middle;\n",
       "    }\n",
       "\n",
       "    .dataframe tbody tr th {\n",
       "        vertical-align: top;\n",
       "    }\n",
       "\n",
       "    .dataframe thead th {\n",
       "        text-align: right;\n",
       "    }\n",
       "</style>\n",
       "<table border=\"1\" class=\"dataframe\">\n",
       "  <thead>\n",
       "    <tr style=\"text-align: right;\">\n",
       "      <th></th>\n",
       "      <th>Year</th>\n",
       "      <th>Month</th>\n",
       "      <th>FlightDate</th>\n",
       "      <th>DepDelay</th>\n",
       "      <th>ArrDelay</th>\n",
       "      <th>CarrierDelay</th>\n",
       "      <th>WeatherDelay</th>\n",
       "      <th>NASDelay</th>\n",
       "      <th>SecurityDelay</th>\n",
       "      <th>LateAircraftDelay</th>\n",
       "      <th>OriginCity</th>\n",
       "      <th>OriginState</th>\n",
       "      <th>DestCity</th>\n",
       "      <th>DestState</th>\n",
       "    </tr>\n",
       "  </thead>\n",
       "  <tbody>\n",
       "    <tr>\n",
       "      <th>1</th>\n",
       "      <td>2018</td>\n",
       "      <td>1</td>\n",
       "      <td>2018-01-15</td>\n",
       "      <td>43</td>\n",
       "      <td>41</td>\n",
       "      <td>41</td>\n",
       "      <td>0</td>\n",
       "      <td>0</td>\n",
       "      <td>0</td>\n",
       "      <td>0</td>\n",
       "      <td>Newark</td>\n",
       "      <td>NJ</td>\n",
       "      <td>Charleston</td>\n",
       "      <td>SC</td>\n",
       "    </tr>\n",
       "    <tr>\n",
       "      <th>2</th>\n",
       "      <td>2018</td>\n",
       "      <td>1</td>\n",
       "      <td>2018-01-16</td>\n",
       "      <td>81</td>\n",
       "      <td>69</td>\n",
       "      <td>67</td>\n",
       "      <td>0</td>\n",
       "      <td>0</td>\n",
       "      <td>0</td>\n",
       "      <td>2</td>\n",
       "      <td>Newark</td>\n",
       "      <td>NJ</td>\n",
       "      <td>Charleston</td>\n",
       "      <td>SC</td>\n",
       "    </tr>\n",
       "    <tr>\n",
       "      <th>3</th>\n",
       "      <td>2018</td>\n",
       "      <td>1</td>\n",
       "      <td>2018-01-17</td>\n",
       "      <td>1</td>\n",
       "      <td>-4</td>\n",
       "      <td>0</td>\n",
       "      <td>0</td>\n",
       "      <td>0</td>\n",
       "      <td>0</td>\n",
       "      <td>0</td>\n",
       "      <td>Newark</td>\n",
       "      <td>NJ</td>\n",
       "      <td>Charleston</td>\n",
       "      <td>SC</td>\n",
       "    </tr>\n",
       "    <tr>\n",
       "      <th>4</th>\n",
       "      <td>2018</td>\n",
       "      <td>1</td>\n",
       "      <td>2018-01-18</td>\n",
       "      <td>-1</td>\n",
       "      <td>-10</td>\n",
       "      <td>0</td>\n",
       "      <td>0</td>\n",
       "      <td>0</td>\n",
       "      <td>0</td>\n",
       "      <td>0</td>\n",
       "      <td>Newark</td>\n",
       "      <td>NJ</td>\n",
       "      <td>Charleston</td>\n",
       "      <td>SC</td>\n",
       "    </tr>\n",
       "    <tr>\n",
       "      <th>6</th>\n",
       "      <td>2018</td>\n",
       "      <td>1</td>\n",
       "      <td>2018-01-20</td>\n",
       "      <td>-6</td>\n",
       "      <td>-32</td>\n",
       "      <td>0</td>\n",
       "      <td>0</td>\n",
       "      <td>0</td>\n",
       "      <td>0</td>\n",
       "      <td>0</td>\n",
       "      <td>Newark</td>\n",
       "      <td>NJ</td>\n",
       "      <td>Charleston</td>\n",
       "      <td>SC</td>\n",
       "    </tr>\n",
       "  </tbody>\n",
       "</table>\n",
       "</div>"
      ],
      "text/plain": [
       "   Year  Month  FlightDate  DepDelay  ArrDelay  CarrierDelay  WeatherDelay  \\\n",
       "1  2018      1  2018-01-15        43        41            41             0   \n",
       "2  2018      1  2018-01-16        81        69            67             0   \n",
       "3  2018      1  2018-01-17         1        -4             0             0   \n",
       "4  2018      1  2018-01-18        -1       -10             0             0   \n",
       "6  2018      1  2018-01-20        -6       -32             0             0   \n",
       "\n",
       "   NASDelay  SecurityDelay  LateAircraftDelay OriginCity OriginState  \\\n",
       "1         0              0                  0     Newark          NJ   \n",
       "2         0              0                  2     Newark          NJ   \n",
       "3         0              0                  0     Newark          NJ   \n",
       "4         0              0                  0     Newark          NJ   \n",
       "6         0              0                  0     Newark          NJ   \n",
       "\n",
       "     DestCity DestState  \n",
       "1  Charleston        SC  \n",
       "2  Charleston        SC  \n",
       "3  Charleston        SC  \n",
       "4  Charleston        SC  \n",
       "6  Charleston        SC  "
      ]
     },
     "execution_count": 39,
     "metadata": {},
     "output_type": "execute_result"
    }
   ],
   "source": [
    "# Check values in dataset.\n",
    "df_clean.head()"
   ]
  },
  {
   "cell_type": "markdown",
   "id": "39b28d47-8a68-44db-a1df-4a071bfc34ea",
   "metadata": {},
   "source": [
    "## Create Column CleanDate\n",
    "\n",
    "The column FlightDate will be converted into a format that is readable by the regression model."
   ]
  },
  {
   "cell_type": "code",
   "execution_count": 41,
   "id": "7ac53e95-b08a-4c29-a24d-dd152dd618d1",
   "metadata": {},
   "outputs": [],
   "source": [
    "# Convert dates to numbers for regression model.\n",
    "# Source: https://www.youtube.com/watch?v=bmFVs5XkUbM\n",
    "clean_dates = mdates.date2num(df_clean.FlightDate)"
   ]
  },
  {
   "cell_type": "code",
   "execution_count": 42,
   "id": "cdabcdc2-91a4-4ace-8b77-c3fc99c3d4c4",
   "metadata": {},
   "outputs": [],
   "source": [
    "# Create CleanDates, add to dataframe.\n",
    "# Source: https://www.geeksforgeeks.org/python-pandas-split-strings-into-two-list-columns-using-str-split/\n",
    "df_clean['CleanDates'] = clean_dates\n",
    "# Convert float column to int column. Source: https://www.geeksforgeeks.org/convert-floats-to-integers-in-a-pandas-dataframe/\n",
    "df_clean = df_clean.astype({\"CleanDates\": 'int64'})"
   ]
  },
  {
   "cell_type": "code",
   "execution_count": 43,
   "id": "376a53c1-ac85-4e60-9a18-80ee0f59729b",
   "metadata": {},
   "outputs": [
    {
     "name": "stdout",
     "output_type": "stream",
     "text": [
      "<class 'pandas.core.frame.DataFrame'>\n",
      "Index: 30132672 entries, 1 to 596675\n",
      "Data columns (total 15 columns):\n",
      " #   Column             Dtype \n",
      "---  ------             ----- \n",
      " 0   Year               int64 \n",
      " 1   Month              int64 \n",
      " 2   FlightDate         object\n",
      " 3   DepDelay           int64 \n",
      " 4   ArrDelay           int64 \n",
      " 5   CarrierDelay       int64 \n",
      " 6   WeatherDelay       int64 \n",
      " 7   NASDelay           int64 \n",
      " 8   SecurityDelay      int64 \n",
      " 9   LateAircraftDelay  int64 \n",
      " 10  OriginCity         object\n",
      " 11  OriginState        object\n",
      " 12  DestCity           object\n",
      " 13  DestState          object\n",
      " 14  CleanDates         int64 \n",
      "dtypes: int64(10), object(5)\n",
      "memory usage: 3.6+ GB\n"
     ]
    }
   ],
   "source": [
    "# Check for column, check that it's type int.\n",
    "df_clean.info()"
   ]
  },
  {
   "cell_type": "code",
   "execution_count": 44,
   "id": "fcff42fb-f3fe-427b-bfbe-6998bb5d6497",
   "metadata": {},
   "outputs": [
    {
     "data": {
      "text/html": [
       "<div>\n",
       "<style scoped>\n",
       "    .dataframe tbody tr th:only-of-type {\n",
       "        vertical-align: middle;\n",
       "    }\n",
       "\n",
       "    .dataframe tbody tr th {\n",
       "        vertical-align: top;\n",
       "    }\n",
       "\n",
       "    .dataframe thead th {\n",
       "        text-align: right;\n",
       "    }\n",
       "</style>\n",
       "<table border=\"1\" class=\"dataframe\">\n",
       "  <thead>\n",
       "    <tr style=\"text-align: right;\">\n",
       "      <th></th>\n",
       "      <th>Year</th>\n",
       "      <th>Month</th>\n",
       "      <th>FlightDate</th>\n",
       "      <th>DepDelay</th>\n",
       "      <th>ArrDelay</th>\n",
       "      <th>CarrierDelay</th>\n",
       "      <th>WeatherDelay</th>\n",
       "      <th>NASDelay</th>\n",
       "      <th>SecurityDelay</th>\n",
       "      <th>LateAircraftDelay</th>\n",
       "      <th>OriginCity</th>\n",
       "      <th>OriginState</th>\n",
       "      <th>DestCity</th>\n",
       "      <th>DestState</th>\n",
       "      <th>CleanDates</th>\n",
       "    </tr>\n",
       "  </thead>\n",
       "  <tbody>\n",
       "    <tr>\n",
       "      <th>1</th>\n",
       "      <td>2018</td>\n",
       "      <td>1</td>\n",
       "      <td>2018-01-15</td>\n",
       "      <td>43</td>\n",
       "      <td>41</td>\n",
       "      <td>41</td>\n",
       "      <td>0</td>\n",
       "      <td>0</td>\n",
       "      <td>0</td>\n",
       "      <td>0</td>\n",
       "      <td>Newark</td>\n",
       "      <td>NJ</td>\n",
       "      <td>Charleston</td>\n",
       "      <td>SC</td>\n",
       "      <td>17546</td>\n",
       "    </tr>\n",
       "    <tr>\n",
       "      <th>2</th>\n",
       "      <td>2018</td>\n",
       "      <td>1</td>\n",
       "      <td>2018-01-16</td>\n",
       "      <td>81</td>\n",
       "      <td>69</td>\n",
       "      <td>67</td>\n",
       "      <td>0</td>\n",
       "      <td>0</td>\n",
       "      <td>0</td>\n",
       "      <td>2</td>\n",
       "      <td>Newark</td>\n",
       "      <td>NJ</td>\n",
       "      <td>Charleston</td>\n",
       "      <td>SC</td>\n",
       "      <td>17547</td>\n",
       "    </tr>\n",
       "    <tr>\n",
       "      <th>3</th>\n",
       "      <td>2018</td>\n",
       "      <td>1</td>\n",
       "      <td>2018-01-17</td>\n",
       "      <td>1</td>\n",
       "      <td>-4</td>\n",
       "      <td>0</td>\n",
       "      <td>0</td>\n",
       "      <td>0</td>\n",
       "      <td>0</td>\n",
       "      <td>0</td>\n",
       "      <td>Newark</td>\n",
       "      <td>NJ</td>\n",
       "      <td>Charleston</td>\n",
       "      <td>SC</td>\n",
       "      <td>17548</td>\n",
       "    </tr>\n",
       "    <tr>\n",
       "      <th>4</th>\n",
       "      <td>2018</td>\n",
       "      <td>1</td>\n",
       "      <td>2018-01-18</td>\n",
       "      <td>-1</td>\n",
       "      <td>-10</td>\n",
       "      <td>0</td>\n",
       "      <td>0</td>\n",
       "      <td>0</td>\n",
       "      <td>0</td>\n",
       "      <td>0</td>\n",
       "      <td>Newark</td>\n",
       "      <td>NJ</td>\n",
       "      <td>Charleston</td>\n",
       "      <td>SC</td>\n",
       "      <td>17549</td>\n",
       "    </tr>\n",
       "    <tr>\n",
       "      <th>6</th>\n",
       "      <td>2018</td>\n",
       "      <td>1</td>\n",
       "      <td>2018-01-20</td>\n",
       "      <td>-6</td>\n",
       "      <td>-32</td>\n",
       "      <td>0</td>\n",
       "      <td>0</td>\n",
       "      <td>0</td>\n",
       "      <td>0</td>\n",
       "      <td>0</td>\n",
       "      <td>Newark</td>\n",
       "      <td>NJ</td>\n",
       "      <td>Charleston</td>\n",
       "      <td>SC</td>\n",
       "      <td>17551</td>\n",
       "    </tr>\n",
       "  </tbody>\n",
       "</table>\n",
       "</div>"
      ],
      "text/plain": [
       "   Year  Month  FlightDate  DepDelay  ArrDelay  CarrierDelay  WeatherDelay  \\\n",
       "1  2018      1  2018-01-15        43        41            41             0   \n",
       "2  2018      1  2018-01-16        81        69            67             0   \n",
       "3  2018      1  2018-01-17         1        -4             0             0   \n",
       "4  2018      1  2018-01-18        -1       -10             0             0   \n",
       "6  2018      1  2018-01-20        -6       -32             0             0   \n",
       "\n",
       "   NASDelay  SecurityDelay  LateAircraftDelay OriginCity OriginState  \\\n",
       "1         0              0                  0     Newark          NJ   \n",
       "2         0              0                  2     Newark          NJ   \n",
       "3         0              0                  0     Newark          NJ   \n",
       "4         0              0                  0     Newark          NJ   \n",
       "6         0              0                  0     Newark          NJ   \n",
       "\n",
       "     DestCity DestState  CleanDates  \n",
       "1  Charleston        SC       17546  \n",
       "2  Charleston        SC       17547  \n",
       "3  Charleston        SC       17548  \n",
       "4  Charleston        SC       17549  \n",
       "6  Charleston        SC       17551  "
      ]
     },
     "execution_count": 44,
     "metadata": {},
     "output_type": "execute_result"
    }
   ],
   "source": [
    "# Visually check column.\n",
    "df_clean.head()"
   ]
  },
  {
   "cell_type": "code",
   "execution_count": 45,
   "id": "a3f3509a-3984-4269-a838-dee826840288",
   "metadata": {},
   "outputs": [],
   "source": [
    "# Save cleaned df to csv. Source: https://www.geeksforgeeks.org/saving-a-pandas-dataframe-as-a-csv/\n",
    "df_clean.to_csv('flight_delay_clean.csv')"
   ]
  },
  {
   "cell_type": "markdown",
   "id": "3c180658-b065-4d55-9486-3afa16b2eec5",
   "metadata": {},
   "source": [
    "# Data Analysis\n",
    "\n",
    "## Question: Is there a correlation between domestic flight delays and weather in the domestic airline market?\n",
    "\n",
    "We will be using the pearson r regression model. The column FlightDate will be variable x. WeatherDelay will be variable y."
   ]
  },
  {
   "cell_type": "code",
   "execution_count": 47,
   "id": "bee5631d-4a5b-4e58-a215-49bf92499f9c",
   "metadata": {},
   "outputs": [],
   "source": [
    "# Assign columns to X and y.\n",
    "X = df_clean.CleanDates\n",
    "y = df_clean.WeatherDelay"
   ]
  },
  {
   "cell_type": "code",
   "execution_count": 48,
   "id": "6f6ce157-dfbf-4347-80f3-7118cb4c7e80",
   "metadata": {},
   "outputs": [
    {
     "data": {
      "text/plain": [
       "PearsonRResult(statistic=0.0032505422249410245, pvalue=3.2572955812642673e-71)"
      ]
     },
     "execution_count": 48,
     "metadata": {},
     "output_type": "execute_result"
    }
   ],
   "source": [
    "# Source: https://realpython.com/numpy-scipy-pandas-correlation-python/#linear-correlation\n",
    "# Source: https://www.youtube.com/watch?v=bmFVs5XkUbM\n",
    "# Source: https://docs.scipy.org/doc/scipy/reference/generated/scipy.stats.pearsonr.html\n",
    "stats.pearsonr(X, y)"
   ]
  },
  {
   "cell_type": "code",
   "execution_count": 49,
   "id": "e6a83a23-e4a3-4f7e-8538-1abe5a29064c",
   "metadata": {},
   "outputs": [],
   "source": [
    "# Create dataframe with only weather delays.\n",
    "# Source: https://stackoverflow.com/questions/18172851/deleting-dataframe-row-in-pandas-based-on-column-value\n",
    "df_weather_delays = df_clean[df_clean['WeatherDelay'] > 0]"
   ]
  },
  {
   "cell_type": "code",
   "execution_count": 50,
   "id": "a17221f5-437b-4683-a580-4370fb5cc47c",
   "metadata": {},
   "outputs": [
    {
     "data": {
      "text/plain": [
       "PearsonRResult(statistic=0.04109091354365808, pvalue=7.378745366859716e-144)"
      ]
     },
     "execution_count": 50,
     "metadata": {},
     "output_type": "execute_result"
    }
   ],
   "source": [
    "stats.pearsonr(df_weather_delays.CleanDates, df_weather_delays.WeatherDelay)"
   ]
  },
  {
   "cell_type": "markdown",
   "id": "ef63885d-4064-451a-b454-8de30bf85a3f",
   "metadata": {},
   "source": [
    "Based on the above results, the null hypothesis can be rejected, but the statistic results in minimal to no correlation. Overall trend compared to all flights is very small. When just looking at flights delayed by weather, evidence is higher, but still small."
   ]
  },
  {
   "cell_type": "markdown",
   "id": "66c1bb40-fd11-479d-a2ee-b0338f470fa6",
   "metadata": {},
   "source": [
    "# Data Visuals\n",
    "\n",
    "While the statistical test shows minimal corelation, we can still visually represent the results for the final report."
   ]
  },
  {
   "cell_type": "code",
   "execution_count": 240,
   "id": "9a6f04b6-27a4-47a8-a580-b49706508343",
   "metadata": {},
   "outputs": [
    {
     "data": {
      "image/png": "[encoded data removed]",
      "text/plain": [
       "<Figure size 640x480 with 1 Axes>"
      ]
     },
     "metadata": {},
     "output_type": "display_data"
    }
   ],
   "source": [
    "# Create Barplot with Year on X axis and WeatherDelay on y axis.\n",
    "# Source: https://seaborn.pydata.org/generated/seaborn.barplot.html\n",
    "# https://www.datacamp.com/tutorial/seaborn-barplot\n",
    "sns.barplot(data=df_weather_delays , x=\"Year\", y=\"WeatherDelay\")\n",
    "plt.xlabel('Year')\n",
    "plt.ylabel('Average Weather Delay')\n",
    "plt.show()"
   ]
  },
  {
   "cell_type": "code",
   "execution_count": 266,
   "id": "6bc399a7-5fe9-45a7-b3ae-a9171478c990",
   "metadata": {},
   "outputs": [
    {
     "data": {
      "image/png": "[encoded data removed]",
      "text/plain": [
       "<Figure size 600x1800 with 6 Axes>"
      ]
     },
     "metadata": {},
     "output_type": "display_data"
    }
   ],
   "source": [
    "# Source: https://seaborn.pydata.org/generated/seaborn.FacetGrid.html\n",
    "# https://seaborn.pydata.org/generated/seaborn.barplot.html\n",
    "# https://www.youtube.com/watch?v=MgtDfRuQzrg\n",
    "# https://www.statology.org/seaborn-ticks/\n",
    "\n",
    "g = sns.FacetGrid(df_weather_delays, col='Year', col_wrap=1, aspect=2)\n",
    "g.map(sns.barplot, 'Month', 'WeatherDelay', order=[1, 2, 3, 4, 5, 6, 7, 8, 9, 10, 11, 12])\n",
    "plt.xticks([0, 1, 2, 3, 4, 5, 6, 7, 8, 9, 10, 11],\n",
    "           ['Jan', 'Feb', 'Mar', 'Apr', 'May', 'Jun',\n",
    "            'Jul', 'Aug', 'Sep', 'Oct', 'Nov', 'Dec'])\n",
    "plt.show()"
   ]
  },
  {
   "cell_type": "code",
   "execution_count": 270,
   "id": "58357367-2743-44de-88d3-f408199ff055",
   "metadata": {},
   "outputs": [
    {
     "data": {
      "image/png": "[encoded data removed]",
      "text/plain": [
       "<Figure size 500x500 with 1 Axes>"
      ]
     },
     "metadata": {},
     "output_type": "display_data"
    }
   ],
   "source": [
    "sns.displot(data=df_weather_delays, x=\"WeatherDelay\",\n",
    "            bins=[30, 60, 90, 120, 150, 180, 210, 240, 270, 300])\n",
    "plt.show()"
   ]
  },
  {
   "cell_type": "code",
   "execution_count": 147,
   "id": "84dc7227-b6b4-4554-8d76-3d50ad191eb5",
   "metadata": {},
   "outputs": [
    {
     "data": {
      "image/png": "[encoded data removed]",
      "text/plain": [
       "<Figure size 1000x1500 with 6 Axes>"
      ]
     },
     "metadata": {},
     "output_type": "display_data"
    }
   ],
   "source": [
    "# Create histogram subsetted by year, showing different counts of delays by length in minutes.\n",
    "# Source: https://seaborn.pydata.org/examples/faceted_histogram.html\n",
    "# https://www.youtube.com/watch?v=MgtDfRuQzrg\n",
    "# https://www.youtube.com/watch?v=Bjz00ygERxY\n",
    "\n",
    "sns.displot(data=df_weather_delays, x=\"WeatherDelay\",\n",
    "            col=\"Year\", col_wrap=2, bins=[30, 60, 90, 120, 150, 180, 210, 240, 270, 300])\n",
    "\n",
    "plt.show()"
   ]
  },
  {
   "cell_type": "code",
   "execution_count": null,
   "id": "246439b5-7ef4-4ae1-8f47-0485f6225d71",
   "metadata": {},
   "outputs": [],
   "source": []
  }
 ],
 "metadata": {
  "kernelspec": {
   "display_name": "Python [conda env:base] *",
   "language": "python",
   "name": "conda-base-py"
  },
  "language_info": {
   "codemirror_mode": {
    "name": "ipython",
    "version": 3
   },
   "file_extension": ".py",
   "mimetype": "text/x-python",
   "name": "python",
   "nbconvert_exporter": "python",
   "pygments_lexer": "ipython3",
   "version": "3.12.7"
  }
 },
 "nbformat": 4,
 "nbformat_minor": 5
}
