{
 "cells": [
  {
   "cell_type": "markdown",
   "id": "5b6d6326-5b2f-4dd8-8162-b9a573c59936",
   "metadata": {},
   "source": [
    "# Introduction"
   ]
  },
  {
   "cell_type": "markdown",
   "id": "0658a7ba-331e-46c6-bd8b-bbc0b9574491",
   "metadata": {},
   "source": [
    "## Dataset Description\n",
    "The dataset that is being worked on is called Flight Delay, and has significant amounts of information on flights from the years 2018-2024. This set of data has 29 columns, with information relating to date of flight, overall flight time, location data, and delay explanations.\n",
    "\n",
    "The dataset can be found here: https://www.kaggle.com/datasets/arvindnagaonkar/flight-delay/data\n"
   ]
  },
  {
   "cell_type": "markdown",
   "id": "0f716489-cc89-4be1-b4ac-d6fc2460e553",
   "metadata": {},
   "source": [
    "## Proposed Question(s)\n",
    "\n",
    "Is there a correlation between domestic flight delays and weather in the domestic airline market?"
   ]
  },
  {
   "cell_type": "code",
   "execution_count": 4,
   "id": "bb19a57e-5cd4-496d-891b-091aa33d6d0f",
   "metadata": {},
   "outputs": [],
   "source": [
    "# Import Packages\n",
    "import pandas as pd\n",
    "import numpy as np\n",
    "import scipy.stats as stats\n",
    "import matplotlib.pyplot as plt\n",
    "import matplotlib.dates as mdates\n",
    "import seaborn as sns"
   ]
  },
  {
   "cell_type": "markdown",
   "id": "0fb9eb64-e8fd-4748-bcd8-ad304fcf14c7",
   "metadata": {},
   "source": [
    "# Data Exploration"
   ]
  },
  {
   "cell_type": "code",
   "execution_count": 6,
   "id": "846ab587-8e59-4fbd-824b-22757a65374c",
   "metadata": {},
   "outputs": [],
   "source": [
    "# Read parquet file, make df. Source: https://stackoverflow.com/questions/33813815/how-to-read-a-parquet-file-into-pandas-dataframe\n",
    "df = pd.read_parquet('Flight_Delay.parquet', engine='pyarrow')"
   ]
  },
  {
   "cell_type": "code",
   "execution_count": 7,
   "id": "9eb273b6-b79d-4896-b052-eebaa6acdf7c",
   "metadata": {},
   "outputs": [
    {
     "data": {
      "text/html": [
       "<div>\n",
       "<style scoped>\n",
       "    .dataframe tbody tr th:only-of-type {\n",
       "        vertical-align: middle;\n",
       "    }\n",
       "\n",
       "    .dataframe tbody tr th {\n",
       "        vertical-align: top;\n",
       "    }\n",
       "\n",
       "    .dataframe thead th {\n",
       "        text-align: right;\n",
       "    }\n",
       "</style>\n",
       "<table border=\"1\" class=\"dataframe\">\n",
       "  <thead>\n",
       "    <tr style=\"text-align: right;\">\n",
       "      <th></th>\n",
       "      <th>Year</th>\n",
       "      <th>Month</th>\n",
       "      <th>DayofMonth</th>\n",
       "      <th>FlightDate</th>\n",
       "      <th>Marketing_Airline_Network</th>\n",
       "      <th>OriginCityName</th>\n",
       "      <th>DestCityName</th>\n",
       "      <th>CRSDepTime</th>\n",
       "      <th>DepTime</th>\n",
       "      <th>DepDelay</th>\n",
       "      <th>...</th>\n",
       "      <th>CRSElapsedTime</th>\n",
       "      <th>ActualElapsedTime</th>\n",
       "      <th>AirTime</th>\n",
       "      <th>Distance</th>\n",
       "      <th>DistanceGroup</th>\n",
       "      <th>CarrierDelay</th>\n",
       "      <th>WeatherDelay</th>\n",
       "      <th>NASDelay</th>\n",
       "      <th>SecurityDelay</th>\n",
       "      <th>LateAircraftDelay</th>\n",
       "    </tr>\n",
       "  </thead>\n",
       "  <tbody>\n",
       "    <tr>\n",
       "      <th>1</th>\n",
       "      <td>2018</td>\n",
       "      <td>1</td>\n",
       "      <td>15</td>\n",
       "      <td>2018-01-15</td>\n",
       "      <td>UA</td>\n",
       "      <td>Newark, NJ</td>\n",
       "      <td>Charleston, SC</td>\n",
       "      <td>1845</td>\n",
       "      <td>1928.0</td>\n",
       "      <td>43.0</td>\n",
       "      <td>...</td>\n",
       "      <td>143.0</td>\n",
       "      <td>141.0</td>\n",
       "      <td>102.0</td>\n",
       "      <td>628.0</td>\n",
       "      <td>3</td>\n",
       "      <td>41.0</td>\n",
       "      <td>0.0</td>\n",
       "      <td>0.0</td>\n",
       "      <td>0.0</td>\n",
       "      <td>0.0</td>\n",
       "    </tr>\n",
       "    <tr>\n",
       "      <th>2</th>\n",
       "      <td>2018</td>\n",
       "      <td>1</td>\n",
       "      <td>16</td>\n",
       "      <td>2018-01-16</td>\n",
       "      <td>UA</td>\n",
       "      <td>Newark, NJ</td>\n",
       "      <td>Charleston, SC</td>\n",
       "      <td>1835</td>\n",
       "      <td>1956.0</td>\n",
       "      <td>81.0</td>\n",
       "      <td>...</td>\n",
       "      <td>143.0</td>\n",
       "      <td>131.0</td>\n",
       "      <td>108.0</td>\n",
       "      <td>628.0</td>\n",
       "      <td>3</td>\n",
       "      <td>67.0</td>\n",
       "      <td>0.0</td>\n",
       "      <td>0.0</td>\n",
       "      <td>0.0</td>\n",
       "      <td>2.0</td>\n",
       "    </tr>\n",
       "    <tr>\n",
       "      <th>3</th>\n",
       "      <td>2018</td>\n",
       "      <td>1</td>\n",
       "      <td>17</td>\n",
       "      <td>2018-01-17</td>\n",
       "      <td>UA</td>\n",
       "      <td>Newark, NJ</td>\n",
       "      <td>Charleston, SC</td>\n",
       "      <td>1835</td>\n",
       "      <td>1836.0</td>\n",
       "      <td>1.0</td>\n",
       "      <td>...</td>\n",
       "      <td>143.0</td>\n",
       "      <td>138.0</td>\n",
       "      <td>113.0</td>\n",
       "      <td>628.0</td>\n",
       "      <td>3</td>\n",
       "      <td>0.0</td>\n",
       "      <td>0.0</td>\n",
       "      <td>0.0</td>\n",
       "      <td>0.0</td>\n",
       "      <td>0.0</td>\n",
       "    </tr>\n",
       "    <tr>\n",
       "      <th>4</th>\n",
       "      <td>2018</td>\n",
       "      <td>1</td>\n",
       "      <td>18</td>\n",
       "      <td>2018-01-18</td>\n",
       "      <td>UA</td>\n",
       "      <td>Newark, NJ</td>\n",
       "      <td>Charleston, SC</td>\n",
       "      <td>1845</td>\n",
       "      <td>1844.0</td>\n",
       "      <td>-1.0</td>\n",
       "      <td>...</td>\n",
       "      <td>143.0</td>\n",
       "      <td>134.0</td>\n",
       "      <td>92.0</td>\n",
       "      <td>628.0</td>\n",
       "      <td>3</td>\n",
       "      <td>0.0</td>\n",
       "      <td>0.0</td>\n",
       "      <td>0.0</td>\n",
       "      <td>0.0</td>\n",
       "      <td>0.0</td>\n",
       "    </tr>\n",
       "    <tr>\n",
       "      <th>6</th>\n",
       "      <td>2018</td>\n",
       "      <td>1</td>\n",
       "      <td>20</td>\n",
       "      <td>2018-01-20</td>\n",
       "      <td>UA</td>\n",
       "      <td>Newark, NJ</td>\n",
       "      <td>Charleston, SC</td>\n",
       "      <td>1835</td>\n",
       "      <td>1829.0</td>\n",
       "      <td>-6.0</td>\n",
       "      <td>...</td>\n",
       "      <td>143.0</td>\n",
       "      <td>117.0</td>\n",
       "      <td>89.0</td>\n",
       "      <td>628.0</td>\n",
       "      <td>3</td>\n",
       "      <td>0.0</td>\n",
       "      <td>0.0</td>\n",
       "      <td>0.0</td>\n",
       "      <td>0.0</td>\n",
       "      <td>0.0</td>\n",
       "    </tr>\n",
       "  </tbody>\n",
       "</table>\n",
       "<p>5 rows × 29 columns</p>\n",
       "</div>"
      ],
      "text/plain": [
       "   Year  Month  DayofMonth  FlightDate Marketing_Airline_Network  \\\n",
       "1  2018      1          15  2018-01-15                        UA   \n",
       "2  2018      1          16  2018-01-16                        UA   \n",
       "3  2018      1          17  2018-01-17                        UA   \n",
       "4  2018      1          18  2018-01-18                        UA   \n",
       "6  2018      1          20  2018-01-20                        UA   \n",
       "\n",
       "  OriginCityName    DestCityName  CRSDepTime  DepTime  DepDelay  ...  \\\n",
       "1     Newark, NJ  Charleston, SC        1845   1928.0      43.0  ...   \n",
       "2     Newark, NJ  Charleston, SC        1835   1956.0      81.0  ...   \n",
       "3     Newark, NJ  Charleston, SC        1835   1836.0       1.0  ...   \n",
       "4     Newark, NJ  Charleston, SC        1845   1844.0      -1.0  ...   \n",
       "6     Newark, NJ  Charleston, SC        1835   1829.0      -6.0  ...   \n",
       "\n",
       "   CRSElapsedTime  ActualElapsedTime  AirTime  Distance  DistanceGroup  \\\n",
       "1           143.0              141.0    102.0     628.0              3   \n",
       "2           143.0              131.0    108.0     628.0              3   \n",
       "3           143.0              138.0    113.0     628.0              3   \n",
       "4           143.0              134.0     92.0     628.0              3   \n",
       "6           143.0              117.0     89.0     628.0              3   \n",
       "\n",
       "   CarrierDelay  WeatherDelay  NASDelay  SecurityDelay  LateAircraftDelay  \n",
       "1          41.0           0.0       0.0            0.0                0.0  \n",
       "2          67.0           0.0       0.0            0.0                2.0  \n",
       "3           0.0           0.0       0.0            0.0                0.0  \n",
       "4           0.0           0.0       0.0            0.0                0.0  \n",
       "6           0.0           0.0       0.0            0.0                0.0  \n",
       "\n",
       "[5 rows x 29 columns]"
      ]
     },
     "execution_count": 7,
     "metadata": {},
     "output_type": "execute_result"
    }
   ],
   "source": [
    "# Check layout of dataset visually.\n",
    "df.head()"
   ]
  },
  {
   "cell_type": "code",
   "execution_count": 8,
   "id": "56a29bb2-18af-4610-bbb7-d8fcf2c332ba",
   "metadata": {
    "scrolled": true
   },
   "outputs": [
    {
     "name": "stdout",
     "output_type": "stream",
     "text": [
      "<class 'pandas.core.frame.DataFrame'>\n",
      "Index: 30132672 entries, 1 to 596675\n",
      "Data columns (total 29 columns):\n",
      " #   Column                     Dtype  \n",
      "---  ------                     -----  \n",
      " 0   Year                       int64  \n",
      " 1   Month                      int64  \n",
      " 2   DayofMonth                 int64  \n",
      " 3   FlightDate                 object \n",
      " 4   Marketing_Airline_Network  object \n",
      " 5   OriginCityName             object \n",
      " 6   DestCityName               object \n",
      " 7   CRSDepTime                 int64  \n",
      " 8   DepTime                    float64\n",
      " 9   DepDelay                   float64\n",
      " 10  DepDelayMinutes            float64\n",
      " 11  TaxiOut                    float64\n",
      " 12  WheelsOff                  float64\n",
      " 13  WheelsOn                   float64\n",
      " 14  TaxiIn                     float64\n",
      " 15  CRSArrTime                 int64  \n",
      " 16  ArrTime                    float64\n",
      " 17  ArrDelay                   float64\n",
      " 18  ArrDelayMinutes            float64\n",
      " 19  CRSElapsedTime             float64\n",
      " 20  ActualElapsedTime          float64\n",
      " 21  AirTime                    float64\n",
      " 22  Distance                   float64\n",
      " 23  DistanceGroup              int64  \n",
      " 24  CarrierDelay               float64\n",
      " 25  WeatherDelay               float64\n",
      " 26  NASDelay                   float64\n",
      " 27  SecurityDelay              float64\n",
      " 28  LateAircraftDelay          float64\n",
      "dtypes: float64(19), int64(6), object(4)\n",
      "memory usage: 6.7+ GB\n"
     ]
    }
   ],
   "source": [
    "# Check for any abnormal information, column types.\n",
    "df.info()"
   ]
  },
  {
   "cell_type": "code",
   "execution_count": 9,
   "id": "59b1b528-79e7-4676-a235-ed9efdcd103d",
   "metadata": {
    "scrolled": true
   },
   "outputs": [
    {
     "data": {
      "text/plain": [
       "Year                         0\n",
       "Month                        0\n",
       "DayofMonth                   0\n",
       "FlightDate                   0\n",
       "Marketing_Airline_Network    0\n",
       "OriginCityName               0\n",
       "DestCityName                 0\n",
       "CRSDepTime                   0\n",
       "DepTime                      0\n",
       "DepDelay                     0\n",
       "DepDelayMinutes              0\n",
       "TaxiOut                      0\n",
       "WheelsOff                    0\n",
       "WheelsOn                     0\n",
       "TaxiIn                       0\n",
       "CRSArrTime                   0\n",
       "ArrTime                      0\n",
       "ArrDelay                     0\n",
       "ArrDelayMinutes              0\n",
       "CRSElapsedTime               0\n",
       "ActualElapsedTime            0\n",
       "AirTime                      0\n",
       "Distance                     0\n",
       "DistanceGroup                0\n",
       "CarrierDelay                 0\n",
       "WeatherDelay                 0\n",
       "NASDelay                     0\n",
       "SecurityDelay                0\n",
       "LateAircraftDelay            0\n",
       "dtype: int64"
      ]
     },
     "execution_count": 9,
     "metadata": {},
     "output_type": "execute_result"
    }
   ],
   "source": [
    "# Check for null values in dataset.\n",
    "df.isnull().sum()"
   ]
  },
  {
   "cell_type": "code",
   "execution_count": 10,
   "id": "3abf3671-7c94-4b7d-99ee-dda68e62d3e9",
   "metadata": {},
   "outputs": [
    {
     "data": {
      "text/plain": [
       "0"
      ]
     },
     "execution_count": 10,
     "metadata": {},
     "output_type": "execute_result"
    }
   ],
   "source": [
    "# Check for duplicated values.\n",
    "df.duplicated().sum()"
   ]
  },
  {
   "cell_type": "code",
   "execution_count": 11,
   "id": "3a694eba-7f2d-447c-b6ae-59a175ea3b17",
   "metadata": {},
   "outputs": [
    {
     "name": "stdout",
     "output_type": "stream",
     "text": [
      "2900.0\n",
      "0.0\n"
     ]
    }
   ],
   "source": [
    "# Check min and max in WeatherDelay column for skewed data.\n",
    "print(df.WeatherDelay.max())\n",
    "print(df.WeatherDelay.min())"
   ]
  },
  {
   "cell_type": "code",
   "execution_count": 12,
   "id": "33f6ba8a-dab6-4cad-80cc-417a3aeb824b",
   "metadata": {
    "scrolled": true
   },
   "outputs": [
    {
     "name": "stdout",
     "output_type": "stream",
     "text": [
      "['Newark, NJ' 'Providence, RI' 'Chicago, IL' 'Lafayette, LA' 'Houston, TX'\n",
      " 'Gulfport/Biloxi, MS' 'Tulsa, OK' 'Greer, SC' 'Mobile, AL'\n",
      " 'Huntsville, AL' 'Little Rock, AR' 'Corpus Christi, TX' 'Des Moines, IA'\n",
      " 'Burlington, VT' 'Atlanta, GA' 'Charleston/Dunbar, WV' 'Lexington, KY'\n",
      " 'Nashville, TN' 'Minneapolis, MN' 'Richmond, VA' 'Cleveland, OH'\n",
      " 'Detroit, MI' 'White Plains, NY' 'Birmingham, AL' 'Jackson/Vicksburg, MS'\n",
      " 'Louisville, KY' 'Orlando, FL' 'Columbia, SC' 'New York, NY'\n",
      " 'Fayetteville, AR' 'Newport News/Williamsburg, VA' 'Lincoln, NE'\n",
      " 'Cincinnati, OH' 'Charleston, SC' 'Tallahassee, FL' 'Pittsburgh, PA'\n",
      " 'Charlotte, NC' 'Philadelphia, PA' 'Hartford, CT' 'Savannah, GA'\n",
      " 'Panama City, FL' 'Valparaiso, FL' 'St. Louis, MO' 'Killeen, TX'\n",
      " 'Key West, FL' 'Milwaukee, WI' 'Springfield, MO' 'Evansville, IN'\n",
      " 'Knoxville, TN' 'Bloomington/Normal, IL' 'Allentown/Bethlehem/Easton, PA'\n",
      " 'Boston, MA' 'Omaha, NE' 'Greensboro/High Point, NC' 'Memphis, TN'\n",
      " 'Moline, IL' 'Kalamazoo, MI' 'Bristol/Johnson City/Kingsport, TN'\n",
      " 'Augusta, GA' 'Gainesville, FL' 'Grand Rapids, MI' 'Buffalo, NY'\n",
      " 'Myrtle Beach, SC' 'Raleigh/Durham, NC' 'Appleton, WI' 'Rochester, NY'\n",
      " 'Asheville, NC' 'Chattanooga, TN' 'Norfolk, VA' 'Madison, WI'\n",
      " 'Portland, ME' 'Baton Rouge, LA' 'Rochester, MN' 'Elmira/Corning, NY'\n",
      " 'Columbus, OH' 'Cedar Rapids/Iowa City, IA' 'Harrisburg, PA'\n",
      " 'Syracuse, NY' 'Jacksonville, FL' 'Washington, DC' 'Fort Myers, FL'\n",
      " 'Tampa, FL' 'Denver, CO' 'Islip, NY' 'Las Vegas, NV' 'Austin, TX'\n",
      " 'Trenton, NJ' 'San Diego, CA' 'Dallas/Fort Worth, TX'\n",
      " 'Salt Lake City, UT' 'Albuquerque, NM' 'Los Angeles, CA'\n",
      " 'San Francisco, CA' 'Phoenix, AZ' 'Miami, FL' 'Oklahoma City, OK'\n",
      " 'Colorado Springs, CO' 'Ontario, CA' 'Seattle, WA' 'New Orleans, LA'\n",
      " 'Santa Ana, CA' 'Palm Springs, CA' 'San Jose, CA' 'Portland, OR'\n",
      " 'Kansas City, MO' 'West Palm Beach/Palm Beach, FL' 'Indianapolis, IN'\n",
      " 'San Antonio, TX' 'San Juan, PR' 'Reno, NV' 'Baltimore, MD'\n",
      " 'Fort Lauderdale, FL' 'Niagara Falls, NY' 'Latrobe, PA'\n",
      " 'Atlantic City, NJ' 'Akron, OH' 'Daytona Beach, FL' 'Dayton, OH'\n",
      " 'New Haven, CT' 'Manchester, NH' 'Jacksonville/Camp Lejeune, NC'\n",
      " 'Melbourne, FL' 'Sarasota/Bradenton, FL' 'Fayetteville, NC'\n",
      " 'Charlottesville, VA' 'Pensacola, FL' 'Wilmington, NC' 'Albany, NY'\n",
      " 'Fort Wayne, IN' 'Lynchburg, VA' 'Toledo, OH' 'Hayden, CO' 'Bozeman, MT'\n",
      " 'Eugene, OR' 'Boise, ID' 'Spokane, WA' 'Tucson, AZ' 'Honolulu, HI'\n",
      " 'Kona, HI' 'Kahului, HI' 'Eagle, CO' 'Sacramento, CA' 'Gunnison, CO'\n",
      " 'Mission/McAllen/Edinburg, TX' 'Lihue, HI' 'Anchorage, AK'\n",
      " 'Aguadilla, PR' 'Montrose/Delta, CO' 'Billings, MT' 'Jackson, WY'\n",
      " 'Guam, TT' 'Wichita, KS' 'Hilo, HI' 'Burbank, CA' 'Medford, OR'\n",
      " 'Santa Barbara, CA' 'Fresno, CA' 'Sioux Falls, SD' 'Amarillo, TX'\n",
      " 'Dallas, TX' 'El Paso, TX' 'Flint, MI' 'Harlingen/San Benito, TX'\n",
      " 'Lubbock, TX' 'Long Beach, CA' 'Midland/Odessa, TX' 'Oakland, CA'\n",
      " 'Brownsville, TX' 'Peoria, IL' 'Rapid City, SD' 'Durango, CO'\n",
      " 'Monterey, CA' 'Bakersfield, CA' 'San Luis Obispo, CA' 'Grand Island, NE'\n",
      " 'Montgomery, AL' 'Christiansted, VI' 'Yakima, WA' 'Lewiston, ID'\n",
      " 'Wenatchee, WA' 'Bend/Redmond, OR' 'Pullman, WA' 'Walla Walla, WA'\n",
      " 'Helena, MT' 'Mammoth Lakes, CA' 'Pasco/Kennewick/Richland, WA'\n",
      " 'Missoula, MT' 'Great Falls, MT' 'Sun Valley/Hailey/Ketchum, ID'\n",
      " 'Santa Rosa, CA' 'Bellingham, WA' 'Fairbanks, AK' 'Deadhorse, AK'\n",
      " 'Kalispell, MT' 'Unalaska, AK' 'Charlotte Amalie, VI' 'Roanoke, VA'\n",
      " 'Bismarck/Mandan, ND' 'Scranton/Wilkes-Barre, PA' 'Fargo, ND'\n",
      " 'Green Bay, WI' 'Pago Pago, TT' 'Hoolehua, HI' 'Lanai, HI' 'Kapalua, HI'\n",
      " 'Roswell, NM' 'Bangor, ME' 'Aberdeen, SD' 'Grand Junction, CO'\n",
      " 'Alpena, MI' 'Escanaba, MI' 'Pellston, MI' 'Bemidji, MN' 'Casper, WY'\n",
      " 'Brainerd, MN' 'Butte, MT' 'Cedar City, UT' 'Elko, NV' 'St. George, UT'\n",
      " 'Cody, WY' 'Hibbing, MN' 'Binghamton, NY' 'Twin Falls, ID'\n",
      " 'Marquette, MI' 'Sault Ste. Marie, MI' 'Rhinelander, WI'\n",
      " 'Ithaca/Cortland, NY' 'La Crosse, WI' 'International Falls, MN'\n",
      " 'Pocatello, ID' 'Aspen, CO' 'Flagstaff, AZ' 'Yuma, AZ'\n",
      " 'Traverse City, MI' 'Meridian, MS' 'Hattiesburg/Laurel, MS'\n",
      " 'Santa Fe, NM' 'Bullhead City, AZ' 'South Bend, IN' 'Columbus, MS'\n",
      " 'Lansing, MI' 'State College, PA' 'Newburgh/Poughkeepsie, NY' 'Erie, PA'\n",
      " 'Iron Mountain/Kingsfd, MI' 'Duluth, MN' 'Williston, ND'\n",
      " 'Saginaw/Bay City/Midland, MI' 'Minot, ND' 'Monroe, LA' 'Dothan, AL'\n",
      " 'Shreveport, LA' 'Hancock/Houghton, MI' 'Gillette, WY'\n",
      " 'Clarksburg/Fairmont, WV' 'Rock Springs, WY' 'Pueblo, CO' 'Muskegon, MI'\n",
      " 'Springfield, IL' 'Devils Lake, ND' 'Jamestown, ND' 'Laramie, WY'\n",
      " 'Hays, KS' 'Paducah, KY' 'Idaho Falls, ID' 'Arcata/Eureka, CA'\n",
      " 'Grand Forks, ND' 'Quincy, IL' 'Eau Claire, WI' 'Cape Girardeau, MO'\n",
      " 'North Bend/Coos Bay, OR' 'Mosinee, WI' 'Redding, CA' 'Columbia, MO'\n",
      " 'Fort Smith, AR' 'Laredo, TX' 'College Station/Bryan, TX'\n",
      " 'Lake Charles, LA' 'Alexandria, LA' 'Hobbs, NM' 'Dubuque, IA' 'Waco, TX'\n",
      " 'Tyler, TX' 'Manhattan/Ft. Riley, KS' 'Joplin, MO' 'Champaign/Urbana, IL'\n",
      " 'San Angelo, TX' 'Lawton/Fort Sill, OK' 'Stillwater, OK'\n",
      " 'Beaumont/Port Arthur, TX' 'Sioux City, IA' 'Plattsburgh, NY'\n",
      " 'Dickinson, ND' 'Kodiak, AK' 'Bethel, AK' 'Barrow, AK' 'Ketchikan, AK'\n",
      " 'Juneau, AK' 'Yakutat, AK' 'Cordova, AK' 'Sitka, AK' 'Wrangell, AK'\n",
      " 'Petersburg, AK' 'Nome, AK' 'Kotzebue, AK' 'Adak Island, AK'\n",
      " 'Columbus, GA' 'Brunswick, GA' 'Valdosta, GA' 'Albany, GA'\n",
      " 'Scottsbluff, NE' 'Ponce, PR' 'Worcester, MA' 'Wichita Falls, TX'\n",
      " 'Abilene, TX' 'Longview, TX' 'Garden City, KS' 'Waterloo, IA'\n",
      " 'Saipan, TT' 'Rota, TT' 'Ashland, WV' 'Greenville, NC'\n",
      " 'New Bern/Morehead/Beaufort, NC' 'Watertown, NY' 'Salisbury, MD'\n",
      " 'Williamsport, PA' 'Florence, SC' 'Hilton Head, SC' 'St. Petersburg, FL'\n",
      " 'Hagerstown, MD' 'Sanford, FL' 'Rockford, IL' 'Owensboro, KY'\n",
      " 'Punta Gorda, FL' 'Concord, NC' 'Ogden, UT' 'Provo, UT' 'Belleville, IL'\n",
      " 'Stockton, CA' 'Portsmouth, NH' 'Ogdensburg, NY' 'St. Cloud, MN'\n",
      " 'Santa Maria, CA' 'Youngstown/Warren, OH' 'Texarkana, AR' 'Nantucket, MA'\n",
      " \"Martha's Vineyard, MA\" 'Lewisburg, WV' 'Staunton, VA' 'North Platte, NE'\n",
      " 'Kearney, NE' 'Salina, KS' 'Vernal, UT' 'Moab, UT' 'Liberal, KS'\n",
      " 'Prescott, AZ' 'Branson, MO' 'Presque Isle/Houlton, ME' 'Cheyenne, WY'\n",
      " 'Del Rio, TX' 'West Yellowstone, MT' 'Hyannis, MA' 'Gustavus, AK'\n",
      " 'King Salmon, AK' 'Dillingham, AK' 'CONCORD, NC' 'Everett, WA'\n",
      " 'Pierre, SD' 'Watertown, SD' 'Sheridan, WY' 'Riverton/Lander, WY'\n",
      " 'Cold Bay, AK' 'Dodge City, KS' 'Decatur, IL' 'Alamosa, CO'\n",
      " 'Victoria, TX' 'Johnstown, PA' 'Wilmington, DE' 'Mason City, IA'\n",
      " 'Fort Leonard Wood, MO' 'Fort Dodge, IA' 'Bishop, CA']\n"
     ]
    }
   ],
   "source": [
    "# Check departure city locations. Source: https://www.geeksforgeeks.org/get-unique-values-from-a-column-in-pandas-dataframe/\n",
    "print(df.OriginCityName.unique())"
   ]
  },
  {
   "cell_type": "code",
   "execution_count": 13,
   "id": "5f8dd47b-00e7-4abc-b63b-a46bf569c579",
   "metadata": {
    "scrolled": true
   },
   "outputs": [
    {
     "name": "stdout",
     "output_type": "stream",
     "text": [
      "['Charleston, SC' 'Newark, NJ' 'Fayetteville, AR' 'Houston, TX'\n",
      " 'Monroe, LA' 'Oklahoma City, OK' 'Baton Rouge, LA' 'Panama City, FL'\n",
      " 'Chicago, IL' 'Des Moines, IA' 'Springfield, MO' 'Savannah, GA'\n",
      " 'Amarillo, TX' 'Lexington, KY' 'Indianapolis, IN' 'Charleston/Dunbar, WV'\n",
      " 'Huntsville, AL' 'Atlanta, GA' 'Detroit, MI' 'Minneapolis, MN'\n",
      " 'New York, NY' 'Cleveland, OH' 'White Plains, NY' 'Boston, MA'\n",
      " 'Richmond, VA' 'Jackson/Vicksburg, MS' 'Tulsa, OK' 'Orlando, FL'\n",
      " 'Birmingham, AL' 'Louisville, KY' 'Greer, SC' 'Key West, FL'\n",
      " 'Milwaukee, WI' 'Newport News/Williamsburg, VA' 'Augusta, GA'\n",
      " 'Lincoln, NE' 'Charlotte, NC' 'Nashville, TN' 'Philadelphia, PA'\n",
      " 'Killeen, TX' 'Evansville, IN' 'Hartford, CT' 'St. Louis, MO'\n",
      " 'Cincinnati, OH' 'Madison, WI' 'Greensboro/High Point, NC'\n",
      " 'Knoxville, TN' 'Gulfport/Biloxi, MS' 'Pittsburgh, PA' 'Columbia, SC'\n",
      " 'Valparaiso, FL' 'Bloomington/Normal, IL'\n",
      " 'Allentown/Bethlehem/Easton, PA' 'Kalamazoo, MI' 'Memphis, TN'\n",
      " 'Tallahassee, FL' 'Bristol/Johnson City/Kingsport, TN' 'Grand Rapids, MI'\n",
      " 'Norfolk, VA' 'Gainesville, FL' 'Buffalo, NY' 'Myrtle Beach, SC'\n",
      " 'Rochester, MN' 'Appleton, WI' 'Asheville, NC' 'Omaha, NE' 'Portland, ME'\n",
      " 'Rochester, NY' 'Raleigh/Durham, NC' 'Cedar Rapids/Iowa City, IA'\n",
      " 'Elmira/Corning, NY' 'Columbus, OH' 'Washington, DC' 'Syracuse, NY'\n",
      " 'Jacksonville, FL' 'Moline, IL' 'Trenton, NJ' 'Islip, NY'\n",
      " 'San Francisco, CA' 'Phoenix, AZ' 'Los Angeles, CA' 'Miami, FL'\n",
      " 'San Juan, PR' 'Tampa, FL' 'Las Vegas, NV' 'Denver, CO' 'New Orleans, LA'\n",
      " 'Colorado Springs, CO' 'Kansas City, MO' 'Fort Myers, FL' 'Seattle, WA'\n",
      " 'Austin, TX' 'Ontario, CA' 'San Diego, CA' 'Santa Ana, CA'\n",
      " 'Salt Lake City, UT' 'Portland, OR' 'Providence, RI' 'San Jose, CA'\n",
      " 'West Palm Beach/Palm Beach, FL' 'Albuquerque, NM'\n",
      " 'Dallas/Fort Worth, TX' 'San Antonio, TX' 'Reno, NV' 'Palm Springs, CA'\n",
      " 'Baltimore, MD' 'Fort Lauderdale, FL' 'Oakland, CA' 'Latrobe, PA'\n",
      " 'Atlantic City, NJ' 'Chattanooga, TN' 'Little Rock, AR' 'Akron, OH'\n",
      " 'Charlottesville, VA' 'Dayton, OH' 'Daytona Beach, FL' 'New Haven, CT'\n",
      " 'Manchester, NH' 'Jacksonville/Camp Lejeune, NC' 'Melbourne, FL'\n",
      " 'Mobile, AL' 'Burlington, VT' 'Sarasota/Bradenton, FL' 'Pensacola, FL'\n",
      " 'Wilmington, NC' 'Scranton/Wilkes-Barre, PA' 'Albany, NY'\n",
      " 'Harrisburg, PA' 'Fort Wayne, IN' 'Lynchburg, VA' 'Sioux Falls, SD'\n",
      " 'Tucson, AZ' 'Sacramento, CA' 'Kona, HI' 'Kahului, HI' 'Lihue, HI'\n",
      " 'Honolulu, HI' 'Eagle, CO' 'Jackson, WY' 'Gunnison, CO' 'Anchorage, AK'\n",
      " 'Hilo, HI' 'Bozeman, MT' 'Spokane, WA' 'Montrose/Delta, CO'\n",
      " 'Billings, MT' 'Eugene, OR' 'Boise, ID' 'Mission/McAllen/Edinburg, TX'\n",
      " 'Guam, TT' 'Wichita, KS' 'Hayden, CO' 'Burbank, CA' 'Fresno, CA'\n",
      " 'Santa Barbara, CA' 'Medford, OR' 'Dallas, TX' 'Long Beach, CA'\n",
      " 'El Paso, TX' 'Harlingen/San Benito, TX' 'Lubbock, TX'\n",
      " 'Midland/Odessa, TX' 'Corpus Christi, TX' 'Flint, MI' 'Brownsville, TX'\n",
      " 'Lafayette, LA' 'San Luis Obispo, CA' 'Rapid City, SD' 'Monterey, CA'\n",
      " 'Bakersfield, CA' 'Durango, CO' 'Montgomery, AL' 'Christiansted, VI'\n",
      " 'Yakima, WA' 'Bend/Redmond, OR' 'Lewiston, ID' 'Walla Walla, WA'\n",
      " 'Wenatchee, WA' 'Kalispell, MT' 'Pullman, WA' 'Mammoth Lakes, CA'\n",
      " 'Pasco/Kennewick/Richland, WA' 'Sun Valley/Hailey/Ketchum, ID'\n",
      " 'Santa Rosa, CA' 'Great Falls, MT' 'Missoula, MT' 'Bellingham, WA'\n",
      " 'Fairbanks, AK' 'Deadhorse, AK' 'Helena, MT' 'Unalaska, AK'\n",
      " 'Charlotte Amalie, VI' 'Bismarck/Mandan, ND' 'Fayetteville, NC'\n",
      " 'Roanoke, VA' 'Fargo, ND' 'Green Bay, WI' 'Pago Pago, TT' 'Hoolehua, HI'\n",
      " 'Lanai, HI' 'Kapalua, HI' 'Grand Island, NE' 'Roswell, NM' 'Peoria, IL'\n",
      " 'Bangor, ME' 'Pocatello, ID' 'Aberdeen, SD' 'Alpena, MI' 'Escanaba, MI'\n",
      " 'Bemidji, MN' 'Casper, WY' 'Brainerd, MN' 'Butte, MT' 'St. George, UT'\n",
      " 'Sault Ste. Marie, MI' 'Marquette, MI' 'Elko, NV' 'Grand Junction, CO'\n",
      " 'Ithaca/Cortland, NY' 'Cody, WY' 'Hibbing, MN' 'Binghamton, NY'\n",
      " 'Twin Falls, ID' 'Pellston, MI' 'Rhinelander, WI'\n",
      " 'International Falls, MN' 'Iron Mountain/Kingsfd, MI' 'Aspen, CO'\n",
      " 'Flagstaff, AZ' 'Yuma, AZ' 'Santa Fe, NM' 'Traverse City, MI'\n",
      " 'La Crosse, WI' 'Meridian, MS' 'Hattiesburg/Laurel, MS'\n",
      " 'Bullhead City, AZ' 'South Bend, IN' 'Columbus, MS'\n",
      " 'Saginaw/Bay City/Midland, MI' 'Dothan, AL' 'Lansing, MI'\n",
      " 'State College, PA' 'Newburgh/Poughkeepsie, NY' 'Erie, PA' 'Duluth, MN'\n",
      " 'Shreveport, LA' 'Idaho Falls, ID' 'Williston, ND' 'Grand Forks, ND'\n",
      " 'Minot, ND' 'Pueblo, CO' 'Hancock/Houghton, MI' 'Clarksburg/Fairmont, WV'\n",
      " 'Springfield, IL' 'Rock Springs, WY' 'Jamestown, ND' 'Devils Lake, ND'\n",
      " 'Gillette, WY' 'Eau Claire, WI' 'Hays, KS' 'Cedar City, UT' 'Toledo, OH'\n",
      " 'Cape Girardeau, MO' 'Muskegon, MI' 'Paducah, KY' 'Quincy, IL'\n",
      " 'Laramie, WY' 'North Bend/Coos Bay, OR' 'Redding, CA' 'Columbia, MO'\n",
      " 'Arcata/Eureka, CA' 'Mosinee, WI' 'Fort Smith, AR' 'Lake Charles, LA'\n",
      " 'Alexandria, LA' 'College Station/Bryan, TX' 'Laredo, TX' 'Hobbs, NM'\n",
      " 'Dubuque, IA' 'Manhattan/Ft. Riley, KS' 'Waco, TX' 'Joplin, MO'\n",
      " 'San Angelo, TX' 'Lawton/Fort Sill, OK' 'Beaumont/Port Arthur, TX'\n",
      " 'Tyler, TX' 'Champaign/Urbana, IL' 'Aguadilla, PR' 'Niagara Falls, NY'\n",
      " 'Plattsburgh, NY' 'Dickinson, ND' 'Bethel, AK' 'Barrow, AK' 'Yakutat, AK'\n",
      " 'Cordova, AK' 'Juneau, AK' 'Ketchikan, AK' 'Sitka, AK' 'Petersburg, AK'\n",
      " 'Wrangell, AK' 'Nome, AK' 'Kotzebue, AK' 'Adak Island, AK' 'Kodiak, AK'\n",
      " 'Columbus, GA' 'Brunswick, GA' 'Valdosta, GA' 'Albany, GA'\n",
      " 'New Bern/Morehead/Beaufort, NC' 'Scottsbluff, NE' 'Ponce, PR'\n",
      " 'Worcester, MA' 'Wichita Falls, TX' 'Sioux City, IA' 'Abilene, TX'\n",
      " 'Garden City, KS' 'Texarkana, AR' 'Waterloo, IA' 'Saipan, TT' 'Rota, TT'\n",
      " 'Watertown, NY' 'Greenville, NC' 'Williamsport, PA' 'Salisbury, MD'\n",
      " 'Ashland, WV' 'Florence, SC' 'Hilton Head, SC' 'St. Petersburg, FL'\n",
      " 'Belleville, IL' 'Sanford, FL' 'Owensboro, KY' 'Punta Gorda, FL'\n",
      " 'Concord, NC' 'Ogden, UT' 'Rockford, IL' 'Provo, UT'\n",
      " 'Youngstown/Warren, OH' 'Stockton, CA' 'Portsmouth, NH' 'Ogdensburg, NY'\n",
      " 'St. Cloud, MN' 'Santa Maria, CA' 'Hagerstown, MD' 'Longview, TX'\n",
      " 'Stillwater, OK' \"Martha's Vineyard, MA\" 'Nantucket, MA' 'Kearney, NE'\n",
      " 'Vernal, UT' 'Staunton, VA' 'Lewisburg, WV' 'Salina, KS' 'Liberal, KS'\n",
      " 'Moab, UT' 'North Platte, NE' 'Prescott, AZ' 'Branson, MO'\n",
      " 'Presque Isle/Houlton, ME' 'Cheyenne, WY' 'Del Rio, TX'\n",
      " 'West Yellowstone, MT' 'Hyannis, MA' 'Gustavus, AK' 'Dillingham, AK'\n",
      " 'King Salmon, AK' 'CONCORD, NC' 'Everett, WA' 'Pierre, SD'\n",
      " 'Watertown, SD' 'Riverton/Lander, WY' 'Sheridan, WY' 'Cold Bay, AK'\n",
      " 'Decatur, IL' 'Dodge City, KS' 'Alamosa, CO' 'Victoria, TX'\n",
      " 'Johnstown, PA' 'Wilmington, DE' 'Mason City, IA' 'Fort Dodge, IA'\n",
      " 'Fort Leonard Wood, MO' 'Bishop, CA']\n"
     ]
    }
   ],
   "source": [
    "# Check destination city names. Source: https://www.geeksforgeeks.org/get-unique-values-from-a-column-in-pandas-dataframe/\n",
    "print(df.DestCityName.unique())"
   ]
  },
  {
   "cell_type": "code",
   "execution_count": 14,
   "id": "125a6e79-5f18-49a0-a6b0-dcf77872217b",
   "metadata": {},
   "outputs": [
    {
     "name": "stdout",
     "output_type": "stream",
     "text": [
      "[2018 2019 2020 2021 2022 2023]\n"
     ]
    }
   ],
   "source": [
    "# Check years. Source: https://www.geeksforgeeks.org/get-unique-values-from-a-column-in-pandas-dataframe/\n",
    "print(df.Year.unique())"
   ]
  },
  {
   "cell_type": "markdown",
   "id": "bf773e69-f5b6-4b22-b4a7-ec01ec3dc313",
   "metadata": {},
   "source": [
    "# Data Cleaning\n",
    "\n",
    "Based on the above information these steps will be performed:\n",
    "\n",
    "Various fields that are not relevant will be dropped from the data set.\n",
    "\n",
    "Origin City and Departure City will have their States split off into Origin State and Departure State.\n",
    "\n",
    "Floats will be converted to ints."
   ]
  },
  {
   "cell_type": "code",
   "execution_count": 16,
   "id": "196aaa3e-5c97-48eb-8c91-e834e2478fb9",
   "metadata": {},
   "outputs": [],
   "source": [
    "# Drop columns.\n",
    "df_clean = df.drop(['CRSDepTime', 'DepTime', 'DepDelay', 'DepDelayMinutes', 'TaxiOut', 'WheelsOff', 'WheelsOn', 'TaxiIn',\n",
    "                    'CRSArrTime', 'ArrTime', 'ArrDelay', 'ArrDelayMinutes', 'CRSElapsedTime', 'ActualElapsedTime',\n",
    "                    'AirTime', 'Distance', 'DistanceGroup', 'CarrierDelay', 'NASDelay', 'SecurityDelay', 'LateAircraftDelay'], axis=1)"
   ]
  },
  {
   "cell_type": "code",
   "execution_count": 17,
   "id": "a5253596-b7a3-4f5f-aaa8-d023af00ee62",
   "metadata": {},
   "outputs": [
    {
     "name": "stdout",
     "output_type": "stream",
     "text": [
      "<class 'pandas.core.frame.DataFrame'>\n",
      "Index: 30132672 entries, 1 to 596675\n",
      "Data columns (total 8 columns):\n",
      " #   Column                     Dtype  \n",
      "---  ------                     -----  \n",
      " 0   Year                       int64  \n",
      " 1   Month                      int64  \n",
      " 2   DayofMonth                 int64  \n",
      " 3   FlightDate                 object \n",
      " 4   Marketing_Airline_Network  object \n",
      " 5   OriginCityName             object \n",
      " 6   DestCityName               object \n",
      " 7   WeatherDelay               float64\n",
      "dtypes: float64(1), int64(3), object(4)\n",
      "memory usage: 2.0+ GB\n"
     ]
    }
   ],
   "source": [
    "# Check for dropped columns.\n",
    "df_clean.info()"
   ]
  },
  {
   "cell_type": "code",
   "execution_count": 18,
   "id": "7e24fa29-267a-434d-897c-0dedaa893b53",
   "metadata": {},
   "outputs": [],
   "source": [
    "# Split OriginCityName, assign to split. Source: https://www.geeksforgeeks.org/python-pandas-split-strings-into-two-list-columns-using-str-split/\n",
    "split = df_clean.OriginCityName.str.split(', ', n=1, expand=True)"
   ]
  },
  {
   "cell_type": "code",
   "execution_count": 19,
   "id": "d1817f03-71c9-4608-976b-1b8fe80837c5",
   "metadata": {},
   "outputs": [
    {
     "data": {
      "text/html": [
       "<div>\n",
       "<style scoped>\n",
       "    .dataframe tbody tr th:only-of-type {\n",
       "        vertical-align: middle;\n",
       "    }\n",
       "\n",
       "    .dataframe tbody tr th {\n",
       "        vertical-align: top;\n",
       "    }\n",
       "\n",
       "    .dataframe thead th {\n",
       "        text-align: right;\n",
       "    }\n",
       "</style>\n",
       "<table border=\"1\" class=\"dataframe\">\n",
       "  <thead>\n",
       "    <tr style=\"text-align: right;\">\n",
       "      <th></th>\n",
       "      <th>0</th>\n",
       "      <th>1</th>\n",
       "    </tr>\n",
       "  </thead>\n",
       "  <tbody>\n",
       "    <tr>\n",
       "      <th>1</th>\n",
       "      <td>Newark</td>\n",
       "      <td>NJ</td>\n",
       "    </tr>\n",
       "    <tr>\n",
       "      <th>2</th>\n",
       "      <td>Newark</td>\n",
       "      <td>NJ</td>\n",
       "    </tr>\n",
       "    <tr>\n",
       "      <th>3</th>\n",
       "      <td>Newark</td>\n",
       "      <td>NJ</td>\n",
       "    </tr>\n",
       "    <tr>\n",
       "      <th>4</th>\n",
       "      <td>Newark</td>\n",
       "      <td>NJ</td>\n",
       "    </tr>\n",
       "    <tr>\n",
       "      <th>6</th>\n",
       "      <td>Newark</td>\n",
       "      <td>NJ</td>\n",
       "    </tr>\n",
       "  </tbody>\n",
       "</table>\n",
       "</div>"
      ],
      "text/plain": [
       "        0   1\n",
       "1  Newark  NJ\n",
       "2  Newark  NJ\n",
       "3  Newark  NJ\n",
       "4  Newark  NJ\n",
       "6  Newark  NJ"
      ]
     },
     "execution_count": 19,
     "metadata": {},
     "output_type": "execute_result"
    }
   ],
   "source": [
    "# Check data.\n",
    "split.head()"
   ]
  },
  {
   "cell_type": "code",
   "execution_count": 20,
   "id": "c56292c5-b7a6-42c3-86dd-ab04935950fc",
   "metadata": {},
   "outputs": [],
   "source": [
    "# Create two new columns with the split data. Source: https://www.geeksforgeeks.org/python-pandas-split-strings-into-two-list-columns-using-str-split/\n",
    "df_clean['OriginCity'] = split[0]\n",
    "df_clean['OriginState'] = split[1]"
   ]
  },
  {
   "cell_type": "code",
   "execution_count": 21,
   "id": "6bf7bed1-877e-475a-9541-542921691cab",
   "metadata": {},
   "outputs": [],
   "source": [
    "# Drop the orignal column.\n",
    "df_clean.drop(columns='OriginCityName', inplace=True)"
   ]
  },
  {
   "cell_type": "code",
   "execution_count": 22,
   "id": "3f30a073-7ba4-483f-a74c-7dc0db1b10c4",
   "metadata": {},
   "outputs": [],
   "source": [
    "# Split DestCityName, assign to split. Source: https://www.geeksforgeeks.org/python-pandas-split-strings-into-two-list-columns-using-str-split/\n",
    "split = df_clean.DestCityName.str.split(', ', n=1, expand=True)"
   ]
  },
  {
   "cell_type": "code",
   "execution_count": 23,
   "id": "fb351ac2-7118-4721-aa4b-dcb59eb81032",
   "metadata": {},
   "outputs": [
    {
     "data": {
      "text/html": [
       "<div>\n",
       "<style scoped>\n",
       "    .dataframe tbody tr th:only-of-type {\n",
       "        vertical-align: middle;\n",
       "    }\n",
       "\n",
       "    .dataframe tbody tr th {\n",
       "        vertical-align: top;\n",
       "    }\n",
       "\n",
       "    .dataframe thead th {\n",
       "        text-align: right;\n",
       "    }\n",
       "</style>\n",
       "<table border=\"1\" class=\"dataframe\">\n",
       "  <thead>\n",
       "    <tr style=\"text-align: right;\">\n",
       "      <th></th>\n",
       "      <th>0</th>\n",
       "      <th>1</th>\n",
       "    </tr>\n",
       "  </thead>\n",
       "  <tbody>\n",
       "    <tr>\n",
       "      <th>1</th>\n",
       "      <td>Charleston</td>\n",
       "      <td>SC</td>\n",
       "    </tr>\n",
       "    <tr>\n",
       "      <th>2</th>\n",
       "      <td>Charleston</td>\n",
       "      <td>SC</td>\n",
       "    </tr>\n",
       "    <tr>\n",
       "      <th>3</th>\n",
       "      <td>Charleston</td>\n",
       "      <td>SC</td>\n",
       "    </tr>\n",
       "    <tr>\n",
       "      <th>4</th>\n",
       "      <td>Charleston</td>\n",
       "      <td>SC</td>\n",
       "    </tr>\n",
       "    <tr>\n",
       "      <th>6</th>\n",
       "      <td>Charleston</td>\n",
       "      <td>SC</td>\n",
       "    </tr>\n",
       "  </tbody>\n",
       "</table>\n",
       "</div>"
      ],
      "text/plain": [
       "            0   1\n",
       "1  Charleston  SC\n",
       "2  Charleston  SC\n",
       "3  Charleston  SC\n",
       "4  Charleston  SC\n",
       "6  Charleston  SC"
      ]
     },
     "execution_count": 23,
     "metadata": {},
     "output_type": "execute_result"
    }
   ],
   "source": [
    "# Check data.\n",
    "split.head()"
   ]
  },
  {
   "cell_type": "code",
   "execution_count": 24,
   "id": "b2587cfc-b116-4c1b-b07b-124f94f677ac",
   "metadata": {},
   "outputs": [],
   "source": [
    "# Create two new columns with the split data. Source: https://www.geeksforgeeks.org/python-pandas-split-strings-into-two-list-columns-using-str-split/\n",
    "df_clean['DestCity'] = split[0]\n",
    "df_clean['DestState'] = split[1]"
   ]
  },
  {
   "cell_type": "code",
   "execution_count": 25,
   "id": "514b292a-7438-4147-89c8-f66184dfe462",
   "metadata": {},
   "outputs": [],
   "source": [
    "# Drop the orignal column.\n",
    "df_clean.drop(columns='DestCityName', inplace=True)"
   ]
  },
  {
   "cell_type": "code",
   "execution_count": 26,
   "id": "3a5c592a-b0fe-4312-9305-b9c294dfcd0d",
   "metadata": {},
   "outputs": [
    {
     "name": "stdout",
     "output_type": "stream",
     "text": [
      "<class 'pandas.core.frame.DataFrame'>\n",
      "Index: 30132672 entries, 1 to 596675\n",
      "Data columns (total 10 columns):\n",
      " #   Column                     Dtype  \n",
      "---  ------                     -----  \n",
      " 0   Year                       int64  \n",
      " 1   Month                      int64  \n",
      " 2   DayofMonth                 int64  \n",
      " 3   FlightDate                 object \n",
      " 4   Marketing_Airline_Network  object \n",
      " 5   WeatherDelay               float64\n",
      " 6   OriginCity                 object \n",
      " 7   OriginState                object \n",
      " 8   DestCity                   object \n",
      " 9   DestState                  object \n",
      "dtypes: float64(1), int64(3), object(6)\n",
      "memory usage: 2.5+ GB\n"
     ]
    }
   ],
   "source": [
    "# Check that columns were dropped, new columns exist.\n",
    "df_clean.info()"
   ]
  },
  {
   "cell_type": "code",
   "execution_count": 27,
   "id": "a1f64893-5b71-483d-8e5e-9ae119dbc865",
   "metadata": {},
   "outputs": [],
   "source": [
    "# Convert float column to int column. Source: https://www.geeksforgeeks.org/convert-floats-to-integers-in-a-pandas-dataframe/\n",
    "df_clean = df_clean.astype({\"WeatherDelay\": 'int64'})"
   ]
  },
  {
   "cell_type": "code",
   "execution_count": 28,
   "id": "5983c023-e219-40a9-84f6-c64d007dea8c",
   "metadata": {},
   "outputs": [
    {
     "name": "stdout",
     "output_type": "stream",
     "text": [
      "<class 'pandas.core.frame.DataFrame'>\n",
      "Index: 30132672 entries, 1 to 596675\n",
      "Data columns (total 10 columns):\n",
      " #   Column                     Dtype \n",
      "---  ------                     ----- \n",
      " 0   Year                       int64 \n",
      " 1   Month                      int64 \n",
      " 2   DayofMonth                 int64 \n",
      " 3   FlightDate                 object\n",
      " 4   Marketing_Airline_Network  object\n",
      " 5   WeatherDelay               int64 \n",
      " 6   OriginCity                 object\n",
      " 7   OriginState                object\n",
      " 8   DestCity                   object\n",
      " 9   DestState                  object\n",
      "dtypes: int64(4), object(6)\n",
      "memory usage: 2.5+ GB\n"
     ]
    }
   ],
   "source": [
    "# Check that columns were changed.\n",
    "df_clean.info()"
   ]
  },
  {
   "cell_type": "code",
   "execution_count": 29,
   "id": "413b6aad-17d0-47c2-ba9c-9b66b92db65c",
   "metadata": {},
   "outputs": [
    {
     "data": {
      "text/html": [
       "<div>\n",
       "<style scoped>\n",
       "    .dataframe tbody tr th:only-of-type {\n",
       "        vertical-align: middle;\n",
       "    }\n",
       "\n",
       "    .dataframe tbody tr th {\n",
       "        vertical-align: top;\n",
       "    }\n",
       "\n",
       "    .dataframe thead th {\n",
       "        text-align: right;\n",
       "    }\n",
       "</style>\n",
       "<table border=\"1\" class=\"dataframe\">\n",
       "  <thead>\n",
       "    <tr style=\"text-align: right;\">\n",
       "      <th></th>\n",
       "      <th>Year</th>\n",
       "      <th>Month</th>\n",
       "      <th>DayofMonth</th>\n",
       "      <th>FlightDate</th>\n",
       "      <th>Marketing_Airline_Network</th>\n",
       "      <th>WeatherDelay</th>\n",
       "      <th>OriginCity</th>\n",
       "      <th>OriginState</th>\n",
       "      <th>DestCity</th>\n",
       "      <th>DestState</th>\n",
       "    </tr>\n",
       "  </thead>\n",
       "  <tbody>\n",
       "    <tr>\n",
       "      <th>1</th>\n",
       "      <td>2018</td>\n",
       "      <td>1</td>\n",
       "      <td>15</td>\n",
       "      <td>2018-01-15</td>\n",
       "      <td>UA</td>\n",
       "      <td>0</td>\n",
       "      <td>Newark</td>\n",
       "      <td>NJ</td>\n",
       "      <td>Charleston</td>\n",
       "      <td>SC</td>\n",
       "    </tr>\n",
       "    <tr>\n",
       "      <th>2</th>\n",
       "      <td>2018</td>\n",
       "      <td>1</td>\n",
       "      <td>16</td>\n",
       "      <td>2018-01-16</td>\n",
       "      <td>UA</td>\n",
       "      <td>0</td>\n",
       "      <td>Newark</td>\n",
       "      <td>NJ</td>\n",
       "      <td>Charleston</td>\n",
       "      <td>SC</td>\n",
       "    </tr>\n",
       "    <tr>\n",
       "      <th>3</th>\n",
       "      <td>2018</td>\n",
       "      <td>1</td>\n",
       "      <td>17</td>\n",
       "      <td>2018-01-17</td>\n",
       "      <td>UA</td>\n",
       "      <td>0</td>\n",
       "      <td>Newark</td>\n",
       "      <td>NJ</td>\n",
       "      <td>Charleston</td>\n",
       "      <td>SC</td>\n",
       "    </tr>\n",
       "    <tr>\n",
       "      <th>4</th>\n",
       "      <td>2018</td>\n",
       "      <td>1</td>\n",
       "      <td>18</td>\n",
       "      <td>2018-01-18</td>\n",
       "      <td>UA</td>\n",
       "      <td>0</td>\n",
       "      <td>Newark</td>\n",
       "      <td>NJ</td>\n",
       "      <td>Charleston</td>\n",
       "      <td>SC</td>\n",
       "    </tr>\n",
       "    <tr>\n",
       "      <th>6</th>\n",
       "      <td>2018</td>\n",
       "      <td>1</td>\n",
       "      <td>20</td>\n",
       "      <td>2018-01-20</td>\n",
       "      <td>UA</td>\n",
       "      <td>0</td>\n",
       "      <td>Newark</td>\n",
       "      <td>NJ</td>\n",
       "      <td>Charleston</td>\n",
       "      <td>SC</td>\n",
       "    </tr>\n",
       "  </tbody>\n",
       "</table>\n",
       "</div>"
      ],
      "text/plain": [
       "   Year  Month  DayofMonth  FlightDate Marketing_Airline_Network  \\\n",
       "1  2018      1          15  2018-01-15                        UA   \n",
       "2  2018      1          16  2018-01-16                        UA   \n",
       "3  2018      1          17  2018-01-17                        UA   \n",
       "4  2018      1          18  2018-01-18                        UA   \n",
       "6  2018      1          20  2018-01-20                        UA   \n",
       "\n",
       "   WeatherDelay OriginCity OriginState    DestCity DestState  \n",
       "1             0     Newark          NJ  Charleston        SC  \n",
       "2             0     Newark          NJ  Charleston        SC  \n",
       "3             0     Newark          NJ  Charleston        SC  \n",
       "4             0     Newark          NJ  Charleston        SC  \n",
       "6             0     Newark          NJ  Charleston        SC  "
      ]
     },
     "execution_count": 29,
     "metadata": {},
     "output_type": "execute_result"
    }
   ],
   "source": [
    "# Check values in dataset.\n",
    "df_clean.head()"
   ]
  },
  {
   "cell_type": "code",
   "execution_count": 30,
   "id": "20bcfcfd-6b47-4b08-a486-e94225f1dfc9",
   "metadata": {},
   "outputs": [],
   "source": [
    "# Save cleaned df to csv. Source: https://www.geeksforgeeks.org/saving-a-pandas-dataframe-as-a-csv/\n",
    "df_clean.to_csv('flight_delay_clean.csv')"
   ]
  },
  {
   "cell_type": "markdown",
   "id": "c5258913-4bc1-47af-8b6f-95c6f1f791bc",
   "metadata": {},
   "source": [
    "# Data Analysis\n",
    "\n",
    "## Question: Is there a correlation between domestic flight delays and weather in the domestic airline market?"
   ]
  },
  {
   "cell_type": "code",
   "execution_count": 32,
   "id": "4b4b8a3e-5716-45d4-83cc-42b28a91f222",
   "metadata": {},
   "outputs": [],
   "source": [
    "# Create variables for each years data based on year column. \n",
    "# Source: https://stackoverflow.com/questions/17071871/how-do-i-select-rows-from-a-dataframe-based-on-column-values\n",
    "df_2018 = df_clean.loc[df_clean['Year'] == 2018]\n",
    "df_2019 = df_clean.loc[df_clean['Year'] == 2019]\n",
    "df_2020 = df_clean.loc[df_clean['Year'] == 2020]\n",
    "df_2021 = df_clean.loc[df_clean['Year'] == 2021]\n",
    "df_2022 = df_clean.loc[df_clean['Year'] == 2022]\n",
    "df_2023 = df_clean.loc[df_clean['Year'] == 2023]"
   ]
  },
  {
   "cell_type": "code",
   "execution_count": 33,
   "id": "7d957299-140c-4b7f-b175-3ec2c0aa1745",
   "metadata": {},
   "outputs": [
    {
     "data": {
      "text/html": [
       "<div>\n",
       "<style scoped>\n",
       "    .dataframe tbody tr th:only-of-type {\n",
       "        vertical-align: middle;\n",
       "    }\n",
       "\n",
       "    .dataframe tbody tr th {\n",
       "        vertical-align: top;\n",
       "    }\n",
       "\n",
       "    .dataframe thead th {\n",
       "        text-align: right;\n",
       "    }\n",
       "</style>\n",
       "<table border=\"1\" class=\"dataframe\">\n",
       "  <thead>\n",
       "    <tr style=\"text-align: right;\">\n",
       "      <th></th>\n",
       "      <th>Year</th>\n",
       "      <th>Month</th>\n",
       "      <th>DayofMonth</th>\n",
       "      <th>FlightDate</th>\n",
       "      <th>Marketing_Airline_Network</th>\n",
       "      <th>WeatherDelay</th>\n",
       "      <th>OriginCity</th>\n",
       "      <th>OriginState</th>\n",
       "      <th>DestCity</th>\n",
       "      <th>DestState</th>\n",
       "    </tr>\n",
       "  </thead>\n",
       "  <tbody>\n",
       "    <tr>\n",
       "      <th>1</th>\n",
       "      <td>2018</td>\n",
       "      <td>1</td>\n",
       "      <td>15</td>\n",
       "      <td>2018-01-15</td>\n",
       "      <td>UA</td>\n",
       "      <td>0</td>\n",
       "      <td>Newark</td>\n",
       "      <td>NJ</td>\n",
       "      <td>Charleston</td>\n",
       "      <td>SC</td>\n",
       "    </tr>\n",
       "    <tr>\n",
       "      <th>2</th>\n",
       "      <td>2018</td>\n",
       "      <td>1</td>\n",
       "      <td>16</td>\n",
       "      <td>2018-01-16</td>\n",
       "      <td>UA</td>\n",
       "      <td>0</td>\n",
       "      <td>Newark</td>\n",
       "      <td>NJ</td>\n",
       "      <td>Charleston</td>\n",
       "      <td>SC</td>\n",
       "    </tr>\n",
       "    <tr>\n",
       "      <th>3</th>\n",
       "      <td>2018</td>\n",
       "      <td>1</td>\n",
       "      <td>17</td>\n",
       "      <td>2018-01-17</td>\n",
       "      <td>UA</td>\n",
       "      <td>0</td>\n",
       "      <td>Newark</td>\n",
       "      <td>NJ</td>\n",
       "      <td>Charleston</td>\n",
       "      <td>SC</td>\n",
       "    </tr>\n",
       "    <tr>\n",
       "      <th>4</th>\n",
       "      <td>2018</td>\n",
       "      <td>1</td>\n",
       "      <td>18</td>\n",
       "      <td>2018-01-18</td>\n",
       "      <td>UA</td>\n",
       "      <td>0</td>\n",
       "      <td>Newark</td>\n",
       "      <td>NJ</td>\n",
       "      <td>Charleston</td>\n",
       "      <td>SC</td>\n",
       "    </tr>\n",
       "    <tr>\n",
       "      <th>6</th>\n",
       "      <td>2018</td>\n",
       "      <td>1</td>\n",
       "      <td>20</td>\n",
       "      <td>2018-01-20</td>\n",
       "      <td>UA</td>\n",
       "      <td>0</td>\n",
       "      <td>Newark</td>\n",
       "      <td>NJ</td>\n",
       "      <td>Charleston</td>\n",
       "      <td>SC</td>\n",
       "    </tr>\n",
       "  </tbody>\n",
       "</table>\n",
       "</div>"
      ],
      "text/plain": [
       "   Year  Month  DayofMonth  FlightDate Marketing_Airline_Network  \\\n",
       "1  2018      1          15  2018-01-15                        UA   \n",
       "2  2018      1          16  2018-01-16                        UA   \n",
       "3  2018      1          17  2018-01-17                        UA   \n",
       "4  2018      1          18  2018-01-18                        UA   \n",
       "6  2018      1          20  2018-01-20                        UA   \n",
       "\n",
       "   WeatherDelay OriginCity OriginState    DestCity DestState  \n",
       "1             0     Newark          NJ  Charleston        SC  \n",
       "2             0     Newark          NJ  Charleston        SC  \n",
       "3             0     Newark          NJ  Charleston        SC  \n",
       "4             0     Newark          NJ  Charleston        SC  \n",
       "6             0     Newark          NJ  Charleston        SC  "
      ]
     },
     "execution_count": 33,
     "metadata": {},
     "output_type": "execute_result"
    }
   ],
   "source": [
    "df_2018.head()"
   ]
  },
  {
   "cell_type": "code",
   "execution_count": 34,
   "id": "28e08021-8039-4b8b-aa14-3aa1e7235113",
   "metadata": {},
   "outputs": [],
   "source": [
    "# Assign means of WeatherDelay columns from each year to a variable.\n",
    "# Source: https://stackoverflow.com/questions/31037298/pandas-get-column-average-mean\n",
    "weather_mean_2018 = df_2018.WeatherDelay.mean()\n",
    "weather_mean_2019 = df_2019.WeatherDelay.mean()\n",
    "weather_mean_2020 = df_2020.WeatherDelay.mean()\n",
    "weather_mean_2021 = df_2021.WeatherDelay.mean()\n",
    "weather_mean_2022 = df_2022.WeatherDelay.mean()\n",
    "weather_mean_2023 = df_2023.WeatherDelay.mean()"
   ]
  },
  {
   "cell_type": "code",
   "execution_count": 35,
   "id": "da51d13b-1003-43c9-9ffe-23fba2fc5f37",
   "metadata": {},
   "outputs": [
    {
     "data": {
      "image/png": "[encoded data removed]",
      "text/plain": [
       "<Figure size 640x480 with 1 Axes>"
      ]
     },
     "metadata": {},
     "output_type": "display_data"
    }
   ],
   "source": [
    "# Create bar chart with yearly means for initial visualization.\n",
    "# Source: https://www.geeksforgeeks.org/bar-plot-in-matplotlib/\n",
    "\n",
    "year_labels = [2018, 2019, 2020, 2021, 2022, 2023]\n",
    "year_means = [weather_mean_2018, weather_mean_2019, weather_mean_2020, \n",
    "              weather_mean_2021, weather_mean_2022, weather_mean_2023]\n",
    "\n",
    "plt.bar(year_labels, year_means)\n",
    "plt.title('Yearly Weather Delay Means')\n",
    "plt.xlabel('Years')\n",
    "plt.ylabel('Yearly Means')\n",
    "plt.show()"
   ]
  },
  {
   "cell_type": "markdown",
   "id": "ac0af744-11be-40f6-b4a5-5d49fd0de642",
   "metadata": {},
   "source": [
    "The above bar chart with means seems to imply a trend of increasing weather delays, but statistical analysis is required."
   ]
  },
  {
   "cell_type": "code",
   "execution_count": 37,
   "id": "ef415954-2076-4865-af0a-0162329f5a53",
   "metadata": {},
   "outputs": [],
   "source": [
    "# Convert dates to numbers for regression model.\n",
    "# Source: https://www.youtube.com/watch?v=bmFVs5XkUbM\n",
    "df_clean_dates = mdates.date2num(df_clean.FlightDate)"
   ]
  },
  {
   "cell_type": "code",
   "execution_count": 38,
   "id": "7d349988-b4d1-43f7-8ca8-30adbdae0ef6",
   "metadata": {},
   "outputs": [],
   "source": [
    "# Create CleanDates, add to dataframe Source: https://www.geeksforgeeks.org/python-pandas-split-strings-into-two-list-columns-using-str-split/\n",
    "df_clean['CleanDates'] = df_clean_dates\n",
    "# Convert float column to int column. Source: https://www.geeksforgeeks.org/convert-floats-to-integers-in-a-pandas-dataframe/\n",
    "df_clean = df_clean.astype({\"CleanDates\": 'int64'})"
   ]
  },
  {
   "cell_type": "code",
   "execution_count": 39,
   "id": "266b5c2e-e80b-47d6-a0fa-447343ad7db1",
   "metadata": {},
   "outputs": [
    {
     "data": {
      "text/html": [
       "<div>\n",
       "<style scoped>\n",
       "    .dataframe tbody tr th:only-of-type {\n",
       "        vertical-align: middle;\n",
       "    }\n",
       "\n",
       "    .dataframe tbody tr th {\n",
       "        vertical-align: top;\n",
       "    }\n",
       "\n",
       "    .dataframe thead th {\n",
       "        text-align: right;\n",
       "    }\n",
       "</style>\n",
       "<table border=\"1\" class=\"dataframe\">\n",
       "  <thead>\n",
       "    <tr style=\"text-align: right;\">\n",
       "      <th></th>\n",
       "      <th>Year</th>\n",
       "      <th>Month</th>\n",
       "      <th>DayofMonth</th>\n",
       "      <th>FlightDate</th>\n",
       "      <th>Marketing_Airline_Network</th>\n",
       "      <th>WeatherDelay</th>\n",
       "      <th>OriginCity</th>\n",
       "      <th>OriginState</th>\n",
       "      <th>DestCity</th>\n",
       "      <th>DestState</th>\n",
       "      <th>CleanDates</th>\n",
       "    </tr>\n",
       "  </thead>\n",
       "  <tbody>\n",
       "    <tr>\n",
       "      <th>1</th>\n",
       "      <td>2018</td>\n",
       "      <td>1</td>\n",
       "      <td>15</td>\n",
       "      <td>2018-01-15</td>\n",
       "      <td>UA</td>\n",
       "      <td>0</td>\n",
       "      <td>Newark</td>\n",
       "      <td>NJ</td>\n",
       "      <td>Charleston</td>\n",
       "      <td>SC</td>\n",
       "      <td>17546</td>\n",
       "    </tr>\n",
       "    <tr>\n",
       "      <th>2</th>\n",
       "      <td>2018</td>\n",
       "      <td>1</td>\n",
       "      <td>16</td>\n",
       "      <td>2018-01-16</td>\n",
       "      <td>UA</td>\n",
       "      <td>0</td>\n",
       "      <td>Newark</td>\n",
       "      <td>NJ</td>\n",
       "      <td>Charleston</td>\n",
       "      <td>SC</td>\n",
       "      <td>17547</td>\n",
       "    </tr>\n",
       "    <tr>\n",
       "      <th>3</th>\n",
       "      <td>2018</td>\n",
       "      <td>1</td>\n",
       "      <td>17</td>\n",
       "      <td>2018-01-17</td>\n",
       "      <td>UA</td>\n",
       "      <td>0</td>\n",
       "      <td>Newark</td>\n",
       "      <td>NJ</td>\n",
       "      <td>Charleston</td>\n",
       "      <td>SC</td>\n",
       "      <td>17548</td>\n",
       "    </tr>\n",
       "    <tr>\n",
       "      <th>4</th>\n",
       "      <td>2018</td>\n",
       "      <td>1</td>\n",
       "      <td>18</td>\n",
       "      <td>2018-01-18</td>\n",
       "      <td>UA</td>\n",
       "      <td>0</td>\n",
       "      <td>Newark</td>\n",
       "      <td>NJ</td>\n",
       "      <td>Charleston</td>\n",
       "      <td>SC</td>\n",
       "      <td>17549</td>\n",
       "    </tr>\n",
       "    <tr>\n",
       "      <th>6</th>\n",
       "      <td>2018</td>\n",
       "      <td>1</td>\n",
       "      <td>20</td>\n",
       "      <td>2018-01-20</td>\n",
       "      <td>UA</td>\n",
       "      <td>0</td>\n",
       "      <td>Newark</td>\n",
       "      <td>NJ</td>\n",
       "      <td>Charleston</td>\n",
       "      <td>SC</td>\n",
       "      <td>17551</td>\n",
       "    </tr>\n",
       "  </tbody>\n",
       "</table>\n",
       "</div>"
      ],
      "text/plain": [
       "   Year  Month  DayofMonth  FlightDate Marketing_Airline_Network  \\\n",
       "1  2018      1          15  2018-01-15                        UA   \n",
       "2  2018      1          16  2018-01-16                        UA   \n",
       "3  2018      1          17  2018-01-17                        UA   \n",
       "4  2018      1          18  2018-01-18                        UA   \n",
       "6  2018      1          20  2018-01-20                        UA   \n",
       "\n",
       "   WeatherDelay OriginCity OriginState    DestCity DestState  CleanDates  \n",
       "1             0     Newark          NJ  Charleston        SC       17546  \n",
       "2             0     Newark          NJ  Charleston        SC       17547  \n",
       "3             0     Newark          NJ  Charleston        SC       17548  \n",
       "4             0     Newark          NJ  Charleston        SC       17549  \n",
       "6             0     Newark          NJ  Charleston        SC       17551  "
      ]
     },
     "execution_count": 39,
     "metadata": {},
     "output_type": "execute_result"
    }
   ],
   "source": [
    "df_clean.head()"
   ]
  },
  {
   "cell_type": "code",
   "execution_count": 40,
   "id": "449388d7-0586-4526-b325-0a5a5e6026ae",
   "metadata": {},
   "outputs": [
    {
     "data": {
      "text/plain": [
       "PearsonRResult(statistic=0.0032505422249410245, pvalue=3.2572955812642673e-71)"
      ]
     },
     "execution_count": 40,
     "metadata": {},
     "output_type": "execute_result"
    }
   ],
   "source": [
    "# Source: https://realpython.com/numpy-scipy-pandas-correlation-python/#linear-correlation\n",
    "# Source: https://www.youtube.com/watch?v=bmFVs5XkUbM\n",
    "# Source: https://docs.scipy.org/doc/scipy/reference/generated/scipy.stats.pearsonr.html\n",
    "stats.pearsonr(df_clean.CleanDates, df_clean.WeatherDelay)"
   ]
  },
  {
   "cell_type": "code",
   "execution_count": 41,
   "id": "fea5e3e4-526f-4c38-adfc-4af734be90c8",
   "metadata": {},
   "outputs": [
    {
     "data": {
      "text/plain": [
       "PearsonRResult(statistic=0.0038540979876730587, pvalue=2.4058243561527523e-99)"
      ]
     },
     "execution_count": 41,
     "metadata": {},
     "output_type": "execute_result"
    }
   ],
   "source": [
    "stats.pearsonr(df_clean.Year, df_clean.WeatherDelay)"
   ]
  },
  {
   "cell_type": "code",
   "execution_count": 42,
   "id": "c3477bb5-8134-4f89-9995-037300e62083",
   "metadata": {},
   "outputs": [
    {
     "data": {
      "text/plain": [
       "SignificanceResult(statistic=-0.0016376705067573968, pvalue=2.4788637902892854e-19)"
      ]
     },
     "execution_count": 42,
     "metadata": {},
     "output_type": "execute_result"
    }
   ],
   "source": [
    "stats.spearmanr(df_clean.Year, df_clean.WeatherDelay)"
   ]
  },
  {
   "cell_type": "markdown",
   "id": "04785c2c-a10a-412b-9fd6-d576111bc8e7",
   "metadata": {},
   "source": [
    "Minimal positive correlation between flight delays and weather delays. However, p-value is significant, null hyptheses should be rejected while noting that the corelation is extremely small in our dataset.\n",
    "\n",
    "Source: https://www.investopedia.com/terms/p/p-value.asp, https://www.freecodecamp.org/news/what-is-a-correlation-coefficient-r-value-in-statistics-explains/"
   ]
  },
  {
   "cell_type": "code",
   "execution_count": 44,
   "id": "6a339a26-2f7e-4469-9084-898be2e841fa",
   "metadata": {},
   "outputs": [],
   "source": [
    "## Visualizations"
   ]
  },
  {
   "cell_type": "code",
   "execution_count": 45,
   "id": "1a7ade19-1d7b-4e23-8492-ed2cc17b5b1b",
   "metadata": {},
   "outputs": [],
   "source": [
    "# Create binary column WasDelayed for visualization comparison.\n",
    "# Source: https://www.geeksforgeeks.org/python-creating-a-pandas-dataframe-column-based-on-a-given-condition/\n",
    "df_clean['WasDelayed'] = [ 0 if x == 0 else 1 for x in df_clean['WeatherDelay']]"
   ]
  },
  {
   "cell_type": "code",
   "execution_count": 46,
   "id": "0eda0018-212b-4bf0-a39b-025a80cc842c",
   "metadata": {
    "scrolled": true
   },
   "outputs": [
    {
     "data": {
      "text/html": [
       "<div>\n",
       "<style scoped>\n",
       "    .dataframe tbody tr th:only-of-type {\n",
       "        vertical-align: middle;\n",
       "    }\n",
       "\n",
       "    .dataframe tbody tr th {\n",
       "        vertical-align: top;\n",
       "    }\n",
       "\n",
       "    .dataframe thead th {\n",
       "        text-align: right;\n",
       "    }\n",
       "</style>\n",
       "<table border=\"1\" class=\"dataframe\">\n",
       "  <thead>\n",
       "    <tr style=\"text-align: right;\">\n",
       "      <th></th>\n",
       "      <th>Year</th>\n",
       "      <th>Month</th>\n",
       "      <th>DayofMonth</th>\n",
       "      <th>FlightDate</th>\n",
       "      <th>Marketing_Airline_Network</th>\n",
       "      <th>WeatherDelay</th>\n",
       "      <th>OriginCity</th>\n",
       "      <th>OriginState</th>\n",
       "      <th>DestCity</th>\n",
       "      <th>DestState</th>\n",
       "      <th>CleanDates</th>\n",
       "      <th>WasDelayed</th>\n",
       "    </tr>\n",
       "  </thead>\n",
       "  <tbody>\n",
       "    <tr>\n",
       "      <th>1</th>\n",
       "      <td>2018</td>\n",
       "      <td>1</td>\n",
       "      <td>15</td>\n",
       "      <td>2018-01-15</td>\n",
       "      <td>UA</td>\n",
       "      <td>0</td>\n",
       "      <td>Newark</td>\n",
       "      <td>NJ</td>\n",
       "      <td>Charleston</td>\n",
       "      <td>SC</td>\n",
       "      <td>17546</td>\n",
       "      <td>0</td>\n",
       "    </tr>\n",
       "    <tr>\n",
       "      <th>2</th>\n",
       "      <td>2018</td>\n",
       "      <td>1</td>\n",
       "      <td>16</td>\n",
       "      <td>2018-01-16</td>\n",
       "      <td>UA</td>\n",
       "      <td>0</td>\n",
       "      <td>Newark</td>\n",
       "      <td>NJ</td>\n",
       "      <td>Charleston</td>\n",
       "      <td>SC</td>\n",
       "      <td>17547</td>\n",
       "      <td>0</td>\n",
       "    </tr>\n",
       "    <tr>\n",
       "      <th>3</th>\n",
       "      <td>2018</td>\n",
       "      <td>1</td>\n",
       "      <td>17</td>\n",
       "      <td>2018-01-17</td>\n",
       "      <td>UA</td>\n",
       "      <td>0</td>\n",
       "      <td>Newark</td>\n",
       "      <td>NJ</td>\n",
       "      <td>Charleston</td>\n",
       "      <td>SC</td>\n",
       "      <td>17548</td>\n",
       "      <td>0</td>\n",
       "    </tr>\n",
       "    <tr>\n",
       "      <th>4</th>\n",
       "      <td>2018</td>\n",
       "      <td>1</td>\n",
       "      <td>18</td>\n",
       "      <td>2018-01-18</td>\n",
       "      <td>UA</td>\n",
       "      <td>0</td>\n",
       "      <td>Newark</td>\n",
       "      <td>NJ</td>\n",
       "      <td>Charleston</td>\n",
       "      <td>SC</td>\n",
       "      <td>17549</td>\n",
       "      <td>0</td>\n",
       "    </tr>\n",
       "    <tr>\n",
       "      <th>6</th>\n",
       "      <td>2018</td>\n",
       "      <td>1</td>\n",
       "      <td>20</td>\n",
       "      <td>2018-01-20</td>\n",
       "      <td>UA</td>\n",
       "      <td>0</td>\n",
       "      <td>Newark</td>\n",
       "      <td>NJ</td>\n",
       "      <td>Charleston</td>\n",
       "      <td>SC</td>\n",
       "      <td>17551</td>\n",
       "      <td>0</td>\n",
       "    </tr>\n",
       "  </tbody>\n",
       "</table>\n",
       "</div>"
      ],
      "text/plain": [
       "   Year  Month  DayofMonth  FlightDate Marketing_Airline_Network  \\\n",
       "1  2018      1          15  2018-01-15                        UA   \n",
       "2  2018      1          16  2018-01-16                        UA   \n",
       "3  2018      1          17  2018-01-17                        UA   \n",
       "4  2018      1          18  2018-01-18                        UA   \n",
       "6  2018      1          20  2018-01-20                        UA   \n",
       "\n",
       "   WeatherDelay OriginCity OriginState    DestCity DestState  CleanDates  \\\n",
       "1             0     Newark          NJ  Charleston        SC       17546   \n",
       "2             0     Newark          NJ  Charleston        SC       17547   \n",
       "3             0     Newark          NJ  Charleston        SC       17548   \n",
       "4             0     Newark          NJ  Charleston        SC       17549   \n",
       "6             0     Newark          NJ  Charleston        SC       17551   \n",
       "\n",
       "   WasDelayed  \n",
       "1           0  \n",
       "2           0  \n",
       "3           0  \n",
       "4           0  \n",
       "6           0  "
      ]
     },
     "execution_count": 46,
     "metadata": {},
     "output_type": "execute_result"
    }
   ],
   "source": [
    "# Check data\n",
    "df_clean.head()"
   ]
  },
  {
   "cell_type": "markdown",
   "id": "c46a46d8-8d45-481e-ad4c-73010c6a4c92",
   "metadata": {},
   "source": [
    "## Question: Are weather delay events getting worse?\n",
    "\n",
    "fix! df clean converting to binary"
   ]
  },
  {
   "cell_type": "code",
   "execution_count": 48,
   "id": "3581db03-cd85-4ff6-b6c4-9c282372096b",
   "metadata": {},
   "outputs": [],
   "source": [
    "# Remove rows where WeatherDelay is 0, assign to new dataframe.\n",
    "# Source: https://stackoverflow.com/questions/18172851/deleting-dataframe-row-in-pandas-based-on-column-value\n",
    "df_weather_delays = df_clean[df_clean['WeatherDelay'] != 0]"
   ]
  },
  {
   "cell_type": "code",
   "execution_count": 49,
   "id": "6a002cb4-afca-44a7-9c7d-6db8eecbe7e4",
   "metadata": {
    "scrolled": true
   },
   "outputs": [
    {
     "data": {
      "text/html": [
       "<div>\n",
       "<style scoped>\n",
       "    .dataframe tbody tr th:only-of-type {\n",
       "        vertical-align: middle;\n",
       "    }\n",
       "\n",
       "    .dataframe tbody tr th {\n",
       "        vertical-align: top;\n",
       "    }\n",
       "\n",
       "    .dataframe thead th {\n",
       "        text-align: right;\n",
       "    }\n",
       "</style>\n",
       "<table border=\"1\" class=\"dataframe\">\n",
       "  <thead>\n",
       "    <tr style=\"text-align: right;\">\n",
       "      <th></th>\n",
       "      <th>Year</th>\n",
       "      <th>Month</th>\n",
       "      <th>DayofMonth</th>\n",
       "      <th>FlightDate</th>\n",
       "      <th>Marketing_Airline_Network</th>\n",
       "      <th>WeatherDelay</th>\n",
       "      <th>OriginCity</th>\n",
       "      <th>OriginState</th>\n",
       "      <th>DestCity</th>\n",
       "      <th>DestState</th>\n",
       "      <th>CleanDates</th>\n",
       "      <th>WasDelayed</th>\n",
       "    </tr>\n",
       "  </thead>\n",
       "  <tbody>\n",
       "    <tr>\n",
       "      <th>22</th>\n",
       "      <td>2018</td>\n",
       "      <td>1</td>\n",
       "      <td>4</td>\n",
       "      <td>2018-01-04</td>\n",
       "      <td>UA</td>\n",
       "      <td>71</td>\n",
       "      <td>Chicago</td>\n",
       "      <td>IL</td>\n",
       "      <td>Fayetteville</td>\n",
       "      <td>AR</td>\n",
       "      <td>17535</td>\n",
       "      <td>1</td>\n",
       "    </tr>\n",
       "    <tr>\n",
       "      <th>87</th>\n",
       "      <td>2018</td>\n",
       "      <td>1</td>\n",
       "      <td>17</td>\n",
       "      <td>2018-01-17</td>\n",
       "      <td>UA</td>\n",
       "      <td>107</td>\n",
       "      <td>Houston</td>\n",
       "      <td>TX</td>\n",
       "      <td>Oklahoma City</td>\n",
       "      <td>OK</td>\n",
       "      <td>17548</td>\n",
       "      <td>1</td>\n",
       "    </tr>\n",
       "    <tr>\n",
       "      <th>363</th>\n",
       "      <td>2018</td>\n",
       "      <td>1</td>\n",
       "      <td>2</td>\n",
       "      <td>2018-01-02</td>\n",
       "      <td>UA</td>\n",
       "      <td>27</td>\n",
       "      <td>Des Moines</td>\n",
       "      <td>IA</td>\n",
       "      <td>Newark</td>\n",
       "      <td>NJ</td>\n",
       "      <td>17533</td>\n",
       "      <td>1</td>\n",
       "    </tr>\n",
       "    <tr>\n",
       "      <th>5860</th>\n",
       "      <td>2018</td>\n",
       "      <td>1</td>\n",
       "      <td>1</td>\n",
       "      <td>2018-01-01</td>\n",
       "      <td>F9</td>\n",
       "      <td>26</td>\n",
       "      <td>Islip</td>\n",
       "      <td>NY</td>\n",
       "      <td>West Palm Beach/Palm Beach</td>\n",
       "      <td>FL</td>\n",
       "      <td>17532</td>\n",
       "      <td>1</td>\n",
       "    </tr>\n",
       "    <tr>\n",
       "      <th>5909</th>\n",
       "      <td>2018</td>\n",
       "      <td>1</td>\n",
       "      <td>1</td>\n",
       "      <td>2018-01-01</td>\n",
       "      <td>F9</td>\n",
       "      <td>4</td>\n",
       "      <td>Trenton</td>\n",
       "      <td>NJ</td>\n",
       "      <td>West Palm Beach/Palm Beach</td>\n",
       "      <td>FL</td>\n",
       "      <td>17532</td>\n",
       "      <td>1</td>\n",
       "    </tr>\n",
       "  </tbody>\n",
       "</table>\n",
       "</div>"
      ],
      "text/plain": [
       "      Year  Month  DayofMonth  FlightDate Marketing_Airline_Network  \\\n",
       "22    2018      1           4  2018-01-04                        UA   \n",
       "87    2018      1          17  2018-01-17                        UA   \n",
       "363   2018      1           2  2018-01-02                        UA   \n",
       "5860  2018      1           1  2018-01-01                        F9   \n",
       "5909  2018      1           1  2018-01-01                        F9   \n",
       "\n",
       "      WeatherDelay  OriginCity OriginState                    DestCity  \\\n",
       "22              71     Chicago          IL                Fayetteville   \n",
       "87             107     Houston          TX               Oklahoma City   \n",
       "363             27  Des Moines          IA                      Newark   \n",
       "5860            26       Islip          NY  West Palm Beach/Palm Beach   \n",
       "5909             4     Trenton          NJ  West Palm Beach/Palm Beach   \n",
       "\n",
       "     DestState  CleanDates  WasDelayed  \n",
       "22          AR       17535           1  \n",
       "87          OK       17548           1  \n",
       "363         NJ       17533           1  \n",
       "5860        FL       17532           1  \n",
       "5909        FL       17532           1  "
      ]
     },
     "execution_count": 49,
     "metadata": {},
     "output_type": "execute_result"
    }
   ],
   "source": [
    "df_weather_delays.head()"
   ]
  },
  {
   "cell_type": "code",
   "execution_count": 50,
   "id": "84297326-0997-4533-8226-1ed5a08a94a7",
   "metadata": {},
   "outputs": [
    {
     "data": {
      "text/plain": [
       "PearsonRResult(statistic=0.042540590950413404, pvalue=4.7249309957539826e-154)"
      ]
     },
     "execution_count": 50,
     "metadata": {},
     "output_type": "execute_result"
    }
   ],
   "source": [
    "# Source: https://realpython.com/numpy-scipy-pandas-correlation-python/#linear-correlation\n",
    "# Source: https://www.youtube.com/watch?v=bmFVs5XkUbM\n",
    "# Source: https://docs.scipy.org/doc/scipy/reference/generated/scipy.stats.pearsonr.html\n",
    "stats.pearsonr(df_weather_delays.Year, df_weather_delays.WeatherDelay)"
   ]
  },
  {
   "cell_type": "code",
   "execution_count": 51,
   "id": "49cac011-1403-4d3f-9a73-17b322cd545d",
   "metadata": {},
   "outputs": [],
   "source": [
    "df_weather_delays_no_2020 = df_weather_delays[df_weather_delays['Year'] != 2020]"
   ]
  },
  {
   "cell_type": "code",
   "execution_count": 52,
   "id": "abf2d8be-e436-4f71-a950-ebbddddccc5a",
   "metadata": {},
   "outputs": [
    {
     "data": {
      "text/plain": [
       "PearsonRResult(statistic=0.044378334636170094, pvalue=2.1461445470787144e-154)"
      ]
     },
     "execution_count": 52,
     "metadata": {},
     "output_type": "execute_result"
    }
   ],
   "source": [
    "stats.pearsonr(df_weather_delays_no_2020.Year, df_weather_delays_no_2020.WeatherDelay)"
   ]
  },
  {
   "cell_type": "code",
   "execution_count": 286,
   "id": "654173fc-e5a8-4a60-a129-81606a21b780",
   "metadata": {},
   "outputs": [],
   "source": [
    "# https://stackoverflow.com/questions/27823273/counting-frequency-of-values-by-date-using-pandas\n",
    "# Create count of delays by date.\n",
    "delay_counts = df_weather_delays.groupby(['FlightDate']).size()"
   ]
  },
  {
   "cell_type": "code",
   "execution_count": 288,
   "id": "edb16bf0-e719-4998-93cd-603dac49a703",
   "metadata": {},
   "outputs": [
    {
     "data": {
      "text/plain": [
       "FlightDate\n",
       "2018-01-01    385\n",
       "2018-01-02    485\n",
       "2018-01-03    276\n",
       "2018-01-04    244\n",
       "2018-01-05    405\n",
       "dtype: int64"
      ]
     },
     "execution_count": 288,
     "metadata": {},
     "output_type": "execute_result"
    }
   ],
   "source": [
    "# Check for data\n",
    "delay_counts.head()"
   ]
  },
  {
   "cell_type": "code",
   "execution_count": 290,
   "id": "8ff487cc-58be-4074-b048-5500b5341128",
   "metadata": {},
   "outputs": [],
   "source": [
    "# https://stackoverflow.com/questions/27823273/counting-frequency-of-values-by-date-using-pandas\n",
    "# Convert back to dataframe\n",
    "df_delay_counts = pd.DataFrame({'FlightDate': delay_counts.index, 'DelayCount': delay_counts.values})"
   ]
  },
  {
   "cell_type": "code",
   "execution_count": 292,
   "id": "ddbd06b3-5457-4c12-9b7c-e581e3eea5b2",
   "metadata": {},
   "outputs": [
    {
     "data": {
      "text/html": [
       "<div>\n",
       "<style scoped>\n",
       "    .dataframe tbody tr th:only-of-type {\n",
       "        vertical-align: middle;\n",
       "    }\n",
       "\n",
       "    .dataframe tbody tr th {\n",
       "        vertical-align: top;\n",
       "    }\n",
       "\n",
       "    .dataframe thead th {\n",
       "        text-align: right;\n",
       "    }\n",
       "</style>\n",
       "<table border=\"1\" class=\"dataframe\">\n",
       "  <thead>\n",
       "    <tr style=\"text-align: right;\">\n",
       "      <th></th>\n",
       "      <th>FlightDate</th>\n",
       "      <th>DelayCount</th>\n",
       "    </tr>\n",
       "  </thead>\n",
       "  <tbody>\n",
       "    <tr>\n",
       "      <th>0</th>\n",
       "      <td>2018-01-01</td>\n",
       "      <td>385</td>\n",
       "    </tr>\n",
       "    <tr>\n",
       "      <th>1</th>\n",
       "      <td>2018-01-02</td>\n",
       "      <td>485</td>\n",
       "    </tr>\n",
       "    <tr>\n",
       "      <th>2</th>\n",
       "      <td>2018-01-03</td>\n",
       "      <td>276</td>\n",
       "    </tr>\n",
       "    <tr>\n",
       "      <th>3</th>\n",
       "      <td>2018-01-04</td>\n",
       "      <td>244</td>\n",
       "    </tr>\n",
       "    <tr>\n",
       "      <th>4</th>\n",
       "      <td>2018-01-05</td>\n",
       "      <td>405</td>\n",
       "    </tr>\n",
       "  </tbody>\n",
       "</table>\n",
       "</div>"
      ],
      "text/plain": [
       "   FlightDate  DelayCount\n",
       "0  2018-01-01         385\n",
       "1  2018-01-02         485\n",
       "2  2018-01-03         276\n",
       "3  2018-01-04         244\n",
       "4  2018-01-05         405"
      ]
     },
     "execution_count": 292,
     "metadata": {},
     "output_type": "execute_result"
    }
   ],
   "source": [
    "df_delay_counts.head()"
   ]
  },
  {
   "cell_type": "code",
   "execution_count": 294,
   "id": "773d790b-b41d-4ade-82b8-9edb1f93640a",
   "metadata": {},
   "outputs": [],
   "source": [
    "# Source: https://medium.com/@hazallgultekin/time-series-analysis-and-forecasting-with-arima-8be02ba2665a\n",
    "data = df_delay_counts\n",
    "data.set_index('FlightDate', inplace=True)"
   ]
  }
 ],
 "metadata": {
  "kernelspec": {
   "display_name": "Python [conda env:base] *",
   "language": "python",
   "name": "conda-base-py"
  },
  "language_info": {
   "codemirror_mode": {
    "name": "ipython",
    "version": 3
   },
   "file_extension": ".py",
   "mimetype": "text/x-python",
   "name": "python",
   "nbconvert_exporter": "python",
   "pygments_lexer": "ipython3",
   "version": "3.12.7"
  }
 },
 "nbformat": 4,
 "nbformat_minor": 5
}
